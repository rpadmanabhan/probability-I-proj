{
  "nbformat": 4,
  "nbformat_minor": 0,
  "metadata": {
    "accelerator": "GPU",
    "colab": {
      "name": "DPPM_clustering_turn_in.ipynb",
      "provenance": [],
      "collapsed_sections": [],
      "machine_shape": "hm",
      "authorship_tag": "ABX9TyPrKZHBx439o8EoZw2MCgIw",
      "include_colab_link": true
    },
    "kernelspec": {
      "display_name": "Python 3",
      "name": "python3"
    },
    "language_info": {
      "name": "python"
    },
    "widgets": {
      "application/vnd.jupyter.widget-state+json": {
        "f311eacfb4f2436cbfecd7df4dc82283": {
          "model_module": "@jupyter-widgets/controls",
          "model_name": "HBoxModel",
          "model_module_version": "1.5.0",
          "state": {
            "_view_name": "HBoxView",
            "_dom_classes": [],
            "_model_name": "HBoxModel",
            "_view_module": "@jupyter-widgets/controls",
            "_model_module_version": "1.5.0",
            "_view_count": null,
            "_view_module_version": "1.5.0",
            "box_style": "",
            "layout": "IPY_MODEL_2253a4d286514dd4ba98962405cbd1a7",
            "_model_module": "@jupyter-widgets/controls",
            "children": [
              "IPY_MODEL_30bacaab3c3f45c184be642744174c5d",
              "IPY_MODEL_3c21691f43a842e6a1f8df32f8839996",
              "IPY_MODEL_e748f79a006541e4a19d96bc1f428972"
            ]
          }
        },
        "2253a4d286514dd4ba98962405cbd1a7": {
          "model_module": "@jupyter-widgets/base",
          "model_name": "LayoutModel",
          "model_module_version": "1.2.0",
          "state": {
            "_view_name": "LayoutView",
            "grid_template_rows": null,
            "right": null,
            "justify_content": null,
            "_view_module": "@jupyter-widgets/base",
            "overflow": null,
            "_model_module_version": "1.2.0",
            "_view_count": null,
            "flex_flow": null,
            "width": null,
            "min_width": null,
            "border": null,
            "align_items": null,
            "bottom": null,
            "_model_module": "@jupyter-widgets/base",
            "top": null,
            "grid_column": null,
            "overflow_y": null,
            "overflow_x": null,
            "grid_auto_flow": null,
            "grid_area": null,
            "grid_template_columns": null,
            "flex": null,
            "_model_name": "LayoutModel",
            "justify_items": null,
            "grid_row": null,
            "max_height": null,
            "align_content": null,
            "visibility": null,
            "align_self": null,
            "height": null,
            "min_height": null,
            "padding": null,
            "grid_auto_rows": null,
            "grid_gap": null,
            "max_width": null,
            "order": null,
            "_view_module_version": "1.2.0",
            "grid_template_areas": null,
            "object_position": null,
            "object_fit": null,
            "grid_auto_columns": null,
            "margin": null,
            "display": null,
            "left": null
          }
        },
        "30bacaab3c3f45c184be642744174c5d": {
          "model_module": "@jupyter-widgets/controls",
          "model_name": "HTMLModel",
          "model_module_version": "1.5.0",
          "state": {
            "_view_name": "HTMLView",
            "style": "IPY_MODEL_02d98e47bab54a0587eec0d84599cc17",
            "_dom_classes": [],
            "description": "",
            "_model_name": "HTMLModel",
            "placeholder": "​",
            "_view_module": "@jupyter-widgets/controls",
            "_model_module_version": "1.5.0",
            "value": "",
            "_view_count": null,
            "_view_module_version": "1.5.0",
            "description_tooltip": null,
            "_model_module": "@jupyter-widgets/controls",
            "layout": "IPY_MODEL_4a344a2f576d4ebeae0a73421c9b2040"
          }
        },
        "3c21691f43a842e6a1f8df32f8839996": {
          "model_module": "@jupyter-widgets/controls",
          "model_name": "FloatProgressModel",
          "model_module_version": "1.5.0",
          "state": {
            "_view_name": "ProgressView",
            "style": "IPY_MODEL_8a556df8dc7c47bdbea20bfaa78eff0d",
            "_dom_classes": [],
            "description": "",
            "_model_name": "FloatProgressModel",
            "bar_style": "success",
            "max": 26058,
            "_view_module": "@jupyter-widgets/controls",
            "_model_module_version": "1.5.0",
            "value": 26058,
            "_view_count": null,
            "_view_module_version": "1.5.0",
            "orientation": "horizontal",
            "min": 0,
            "description_tooltip": null,
            "_model_module": "@jupyter-widgets/controls",
            "layout": "IPY_MODEL_7334de97ff4049a4b96de3ab8ae918cc"
          }
        },
        "e748f79a006541e4a19d96bc1f428972": {
          "model_module": "@jupyter-widgets/controls",
          "model_name": "HTMLModel",
          "model_module_version": "1.5.0",
          "state": {
            "_view_name": "HTMLView",
            "style": "IPY_MODEL_6db0b8f48d22413ab199da0a3b41bec7",
            "_dom_classes": [],
            "description": "",
            "_model_name": "HTMLModel",
            "placeholder": "​",
            "_view_module": "@jupyter-widgets/controls",
            "_model_module_version": "1.5.0",
            "value": " 26059/? [00:01&lt;00:00, 49277.33B/s]",
            "_view_count": null,
            "_view_module_version": "1.5.0",
            "description_tooltip": null,
            "_model_module": "@jupyter-widgets/controls",
            "layout": "IPY_MODEL_841d4b3e6809405aacbdb01ca9af0d5a"
          }
        },
        "02d98e47bab54a0587eec0d84599cc17": {
          "model_module": "@jupyter-widgets/controls",
          "model_name": "DescriptionStyleModel",
          "model_module_version": "1.5.0",
          "state": {
            "_view_name": "StyleView",
            "_model_name": "DescriptionStyleModel",
            "description_width": "",
            "_view_module": "@jupyter-widgets/base",
            "_model_module_version": "1.5.0",
            "_view_count": null,
            "_view_module_version": "1.2.0",
            "_model_module": "@jupyter-widgets/controls"
          }
        },
        "4a344a2f576d4ebeae0a73421c9b2040": {
          "model_module": "@jupyter-widgets/base",
          "model_name": "LayoutModel",
          "model_module_version": "1.2.0",
          "state": {
            "_view_name": "LayoutView",
            "grid_template_rows": null,
            "right": null,
            "justify_content": null,
            "_view_module": "@jupyter-widgets/base",
            "overflow": null,
            "_model_module_version": "1.2.0",
            "_view_count": null,
            "flex_flow": null,
            "width": null,
            "min_width": null,
            "border": null,
            "align_items": null,
            "bottom": null,
            "_model_module": "@jupyter-widgets/base",
            "top": null,
            "grid_column": null,
            "overflow_y": null,
            "overflow_x": null,
            "grid_auto_flow": null,
            "grid_area": null,
            "grid_template_columns": null,
            "flex": null,
            "_model_name": "LayoutModel",
            "justify_items": null,
            "grid_row": null,
            "max_height": null,
            "align_content": null,
            "visibility": null,
            "align_self": null,
            "height": null,
            "min_height": null,
            "padding": null,
            "grid_auto_rows": null,
            "grid_gap": null,
            "max_width": null,
            "order": null,
            "_view_module_version": "1.2.0",
            "grid_template_areas": null,
            "object_position": null,
            "object_fit": null,
            "grid_auto_columns": null,
            "margin": null,
            "display": null,
            "left": null
          }
        },
        "8a556df8dc7c47bdbea20bfaa78eff0d": {
          "model_module": "@jupyter-widgets/controls",
          "model_name": "ProgressStyleModel",
          "model_module_version": "1.5.0",
          "state": {
            "_view_name": "StyleView",
            "_model_name": "ProgressStyleModel",
            "description_width": "",
            "_view_module": "@jupyter-widgets/base",
            "_model_module_version": "1.5.0",
            "_view_count": null,
            "_view_module_version": "1.2.0",
            "bar_color": null,
            "_model_module": "@jupyter-widgets/controls"
          }
        },
        "7334de97ff4049a4b96de3ab8ae918cc": {
          "model_module": "@jupyter-widgets/base",
          "model_name": "LayoutModel",
          "model_module_version": "1.2.0",
          "state": {
            "_view_name": "LayoutView",
            "grid_template_rows": null,
            "right": null,
            "justify_content": null,
            "_view_module": "@jupyter-widgets/base",
            "overflow": null,
            "_model_module_version": "1.2.0",
            "_view_count": null,
            "flex_flow": null,
            "width": null,
            "min_width": null,
            "border": null,
            "align_items": null,
            "bottom": null,
            "_model_module": "@jupyter-widgets/base",
            "top": null,
            "grid_column": null,
            "overflow_y": null,
            "overflow_x": null,
            "grid_auto_flow": null,
            "grid_area": null,
            "grid_template_columns": null,
            "flex": null,
            "_model_name": "LayoutModel",
            "justify_items": null,
            "grid_row": null,
            "max_height": null,
            "align_content": null,
            "visibility": null,
            "align_self": null,
            "height": null,
            "min_height": null,
            "padding": null,
            "grid_auto_rows": null,
            "grid_gap": null,
            "max_width": null,
            "order": null,
            "_view_module_version": "1.2.0",
            "grid_template_areas": null,
            "object_position": null,
            "object_fit": null,
            "grid_auto_columns": null,
            "margin": null,
            "display": null,
            "left": null
          }
        },
        "6db0b8f48d22413ab199da0a3b41bec7": {
          "model_module": "@jupyter-widgets/controls",
          "model_name": "DescriptionStyleModel",
          "model_module_version": "1.5.0",
          "state": {
            "_view_name": "StyleView",
            "_model_name": "DescriptionStyleModel",
            "description_width": "",
            "_view_module": "@jupyter-widgets/base",
            "_model_module_version": "1.5.0",
            "_view_count": null,
            "_view_module_version": "1.2.0",
            "_model_module": "@jupyter-widgets/controls"
          }
        },
        "841d4b3e6809405aacbdb01ca9af0d5a": {
          "model_module": "@jupyter-widgets/base",
          "model_name": "LayoutModel",
          "model_module_version": "1.2.0",
          "state": {
            "_view_name": "LayoutView",
            "grid_template_rows": null,
            "right": null,
            "justify_content": null,
            "_view_module": "@jupyter-widgets/base",
            "overflow": null,
            "_model_module_version": "1.2.0",
            "_view_count": null,
            "flex_flow": null,
            "width": null,
            "min_width": null,
            "border": null,
            "align_items": null,
            "bottom": null,
            "_model_module": "@jupyter-widgets/base",
            "top": null,
            "grid_column": null,
            "overflow_y": null,
            "overflow_x": null,
            "grid_auto_flow": null,
            "grid_area": null,
            "grid_template_columns": null,
            "flex": null,
            "_model_name": "LayoutModel",
            "justify_items": null,
            "grid_row": null,
            "max_height": null,
            "align_content": null,
            "visibility": null,
            "align_self": null,
            "height": null,
            "min_height": null,
            "padding": null,
            "grid_auto_rows": null,
            "grid_gap": null,
            "max_width": null,
            "order": null,
            "_view_module_version": "1.2.0",
            "grid_template_areas": null,
            "object_position": null,
            "object_fit": null,
            "grid_auto_columns": null,
            "margin": null,
            "display": null,
            "left": null
          }
        },
        "4263f743c1a94a7ea18c3eebc2d0ec06": {
          "model_module": "@jupyter-widgets/controls",
          "model_name": "HBoxModel",
          "model_module_version": "1.5.0",
          "state": {
            "_view_name": "HBoxView",
            "_dom_classes": [],
            "_model_name": "HBoxModel",
            "_view_module": "@jupyter-widgets/controls",
            "_model_module_version": "1.5.0",
            "_view_count": null,
            "_view_module_version": "1.5.0",
            "box_style": "",
            "layout": "IPY_MODEL_381d4229bef747aa8c84fb2da4a4e6b6",
            "_model_module": "@jupyter-widgets/controls",
            "children": [
              "IPY_MODEL_31a6e34392ca4e2ead2355aefccf1780",
              "IPY_MODEL_a59f2e5c7b564705bf17ab83c71ced60",
              "IPY_MODEL_97447342ad0348449ceb53bea8d91e8c"
            ]
          }
        },
        "381d4229bef747aa8c84fb2da4a4e6b6": {
          "model_module": "@jupyter-widgets/base",
          "model_name": "LayoutModel",
          "model_module_version": "1.2.0",
          "state": {
            "_view_name": "LayoutView",
            "grid_template_rows": null,
            "right": null,
            "justify_content": null,
            "_view_module": "@jupyter-widgets/base",
            "overflow": null,
            "_model_module_version": "1.2.0",
            "_view_count": null,
            "flex_flow": null,
            "width": null,
            "min_width": null,
            "border": null,
            "align_items": null,
            "bottom": null,
            "_model_module": "@jupyter-widgets/base",
            "top": null,
            "grid_column": null,
            "overflow_y": null,
            "overflow_x": null,
            "grid_auto_flow": null,
            "grid_area": null,
            "grid_template_columns": null,
            "flex": null,
            "_model_name": "LayoutModel",
            "justify_items": null,
            "grid_row": null,
            "max_height": null,
            "align_content": null,
            "visibility": null,
            "align_self": null,
            "height": null,
            "min_height": null,
            "padding": null,
            "grid_auto_rows": null,
            "grid_gap": null,
            "max_width": null,
            "order": null,
            "_view_module_version": "1.2.0",
            "grid_template_areas": null,
            "object_position": null,
            "object_fit": null,
            "grid_auto_columns": null,
            "margin": null,
            "display": null,
            "left": null
          }
        },
        "31a6e34392ca4e2ead2355aefccf1780": {
          "model_module": "@jupyter-widgets/controls",
          "model_name": "HTMLModel",
          "model_module_version": "1.5.0",
          "state": {
            "_view_name": "HTMLView",
            "style": "IPY_MODEL_95ddbb04c0f34f29bc6fe9556935ad0f",
            "_dom_classes": [],
            "description": "",
            "_model_name": "HTMLModel",
            "placeholder": "​",
            "_view_module": "@jupyter-widgets/controls",
            "_model_module_version": "1.5.0",
            "value": "",
            "_view_count": null,
            "_view_module_version": "1.5.0",
            "description_tooltip": null,
            "_model_module": "@jupyter-widgets/controls",
            "layout": "IPY_MODEL_278d5a7a1e424887aa40ea63842158bc"
          }
        },
        "a59f2e5c7b564705bf17ab83c71ced60": {
          "model_module": "@jupyter-widgets/controls",
          "model_name": "FloatProgressModel",
          "model_module_version": "1.5.0",
          "state": {
            "_view_name": "ProgressView",
            "style": "IPY_MODEL_0aa69f5b6d5d4f3f8c4cd0190795538c",
            "_dom_classes": [],
            "description": "",
            "_model_name": "FloatProgressModel",
            "bar_style": "success",
            "max": 45376,
            "_view_module": "@jupyter-widgets/controls",
            "_model_module_version": "1.5.0",
            "value": 45376,
            "_view_count": null,
            "_view_module_version": "1.5.0",
            "orientation": "horizontal",
            "min": 0,
            "description_tooltip": null,
            "_model_module": "@jupyter-widgets/controls",
            "layout": "IPY_MODEL_4b5afe8a5e6b49bebbce28266946e068"
          }
        },
        "97447342ad0348449ceb53bea8d91e8c": {
          "model_module": "@jupyter-widgets/controls",
          "model_name": "HTMLModel",
          "model_module_version": "1.5.0",
          "state": {
            "_view_name": "HTMLView",
            "style": "IPY_MODEL_9552d80e890e403cab5e0c416ba49dd2",
            "_dom_classes": [],
            "description": "",
            "_model_name": "HTMLModel",
            "placeholder": "​",
            "_view_module": "@jupyter-widgets/controls",
            "_model_module_version": "1.5.0",
            "value": " 45377/? [00:32&lt;00:00, 58014.87B/s]",
            "_view_count": null,
            "_view_module_version": "1.5.0",
            "description_tooltip": null,
            "_model_module": "@jupyter-widgets/controls",
            "layout": "IPY_MODEL_95072dcbe863464aa1714838a99c5546"
          }
        },
        "95ddbb04c0f34f29bc6fe9556935ad0f": {
          "model_module": "@jupyter-widgets/controls",
          "model_name": "DescriptionStyleModel",
          "model_module_version": "1.5.0",
          "state": {
            "_view_name": "StyleView",
            "_model_name": "DescriptionStyleModel",
            "description_width": "",
            "_view_module": "@jupyter-widgets/base",
            "_model_module_version": "1.5.0",
            "_view_count": null,
            "_view_module_version": "1.2.0",
            "_model_module": "@jupyter-widgets/controls"
          }
        },
        "278d5a7a1e424887aa40ea63842158bc": {
          "model_module": "@jupyter-widgets/base",
          "model_name": "LayoutModel",
          "model_module_version": "1.2.0",
          "state": {
            "_view_name": "LayoutView",
            "grid_template_rows": null,
            "right": null,
            "justify_content": null,
            "_view_module": "@jupyter-widgets/base",
            "overflow": null,
            "_model_module_version": "1.2.0",
            "_view_count": null,
            "flex_flow": null,
            "width": null,
            "min_width": null,
            "border": null,
            "align_items": null,
            "bottom": null,
            "_model_module": "@jupyter-widgets/base",
            "top": null,
            "grid_column": null,
            "overflow_y": null,
            "overflow_x": null,
            "grid_auto_flow": null,
            "grid_area": null,
            "grid_template_columns": null,
            "flex": null,
            "_model_name": "LayoutModel",
            "justify_items": null,
            "grid_row": null,
            "max_height": null,
            "align_content": null,
            "visibility": null,
            "align_self": null,
            "height": null,
            "min_height": null,
            "padding": null,
            "grid_auto_rows": null,
            "grid_gap": null,
            "max_width": null,
            "order": null,
            "_view_module_version": "1.2.0",
            "grid_template_areas": null,
            "object_position": null,
            "object_fit": null,
            "grid_auto_columns": null,
            "margin": null,
            "display": null,
            "left": null
          }
        },
        "0aa69f5b6d5d4f3f8c4cd0190795538c": {
          "model_module": "@jupyter-widgets/controls",
          "model_name": "ProgressStyleModel",
          "model_module_version": "1.5.0",
          "state": {
            "_view_name": "StyleView",
            "_model_name": "ProgressStyleModel",
            "description_width": "",
            "_view_module": "@jupyter-widgets/base",
            "_model_module_version": "1.5.0",
            "_view_count": null,
            "_view_module_version": "1.2.0",
            "bar_color": null,
            "_model_module": "@jupyter-widgets/controls"
          }
        },
        "4b5afe8a5e6b49bebbce28266946e068": {
          "model_module": "@jupyter-widgets/base",
          "model_name": "LayoutModel",
          "model_module_version": "1.2.0",
          "state": {
            "_view_name": "LayoutView",
            "grid_template_rows": null,
            "right": null,
            "justify_content": null,
            "_view_module": "@jupyter-widgets/base",
            "overflow": null,
            "_model_module_version": "1.2.0",
            "_view_count": null,
            "flex_flow": null,
            "width": null,
            "min_width": null,
            "border": null,
            "align_items": null,
            "bottom": null,
            "_model_module": "@jupyter-widgets/base",
            "top": null,
            "grid_column": null,
            "overflow_y": null,
            "overflow_x": null,
            "grid_auto_flow": null,
            "grid_area": null,
            "grid_template_columns": null,
            "flex": null,
            "_model_name": "LayoutModel",
            "justify_items": null,
            "grid_row": null,
            "max_height": null,
            "align_content": null,
            "visibility": null,
            "align_self": null,
            "height": null,
            "min_height": null,
            "padding": null,
            "grid_auto_rows": null,
            "grid_gap": null,
            "max_width": null,
            "order": null,
            "_view_module_version": "1.2.0",
            "grid_template_areas": null,
            "object_position": null,
            "object_fit": null,
            "grid_auto_columns": null,
            "margin": null,
            "display": null,
            "left": null
          }
        },
        "9552d80e890e403cab5e0c416ba49dd2": {
          "model_module": "@jupyter-widgets/controls",
          "model_name": "DescriptionStyleModel",
          "model_module_version": "1.5.0",
          "state": {
            "_view_name": "StyleView",
            "_model_name": "DescriptionStyleModel",
            "description_width": "",
            "_view_module": "@jupyter-widgets/base",
            "_model_module_version": "1.5.0",
            "_view_count": null,
            "_view_module_version": "1.2.0",
            "_model_module": "@jupyter-widgets/controls"
          }
        },
        "95072dcbe863464aa1714838a99c5546": {
          "model_module": "@jupyter-widgets/base",
          "model_name": "LayoutModel",
          "model_module_version": "1.2.0",
          "state": {
            "_view_name": "LayoutView",
            "grid_template_rows": null,
            "right": null,
            "justify_content": null,
            "_view_module": "@jupyter-widgets/base",
            "overflow": null,
            "_model_module_version": "1.2.0",
            "_view_count": null,
            "flex_flow": null,
            "width": null,
            "min_width": null,
            "border": null,
            "align_items": null,
            "bottom": null,
            "_model_module": "@jupyter-widgets/base",
            "top": null,
            "grid_column": null,
            "overflow_y": null,
            "overflow_x": null,
            "grid_auto_flow": null,
            "grid_area": null,
            "grid_template_columns": null,
            "flex": null,
            "_model_name": "LayoutModel",
            "justify_items": null,
            "grid_row": null,
            "max_height": null,
            "align_content": null,
            "visibility": null,
            "align_self": null,
            "height": null,
            "min_height": null,
            "padding": null,
            "grid_auto_rows": null,
            "grid_gap": null,
            "max_width": null,
            "order": null,
            "_view_module_version": "1.2.0",
            "grid_template_areas": null,
            "object_position": null,
            "object_fit": null,
            "grid_auto_columns": null,
            "margin": null,
            "display": null,
            "left": null
          }
        },
        "06ff9007e75e428c9b871b8222daa5a9": {
          "model_module": "@jupyter-widgets/controls",
          "model_name": "HBoxModel",
          "model_module_version": "1.5.0",
          "state": {
            "_view_name": "HBoxView",
            "_dom_classes": [],
            "_model_name": "HBoxModel",
            "_view_module": "@jupyter-widgets/controls",
            "_model_module_version": "1.5.0",
            "_view_count": null,
            "_view_module_version": "1.5.0",
            "box_style": "",
            "layout": "IPY_MODEL_d76524a483084c4682cb664f567ea902",
            "_model_module": "@jupyter-widgets/controls",
            "children": [
              "IPY_MODEL_85f8966479914073a81aaca22a957a05",
              "IPY_MODEL_80cc676d383c40ca858b2f4e16a16626",
              "IPY_MODEL_09509ea100874b50a599fad024ea8efb"
            ]
          }
        },
        "d76524a483084c4682cb664f567ea902": {
          "model_module": "@jupyter-widgets/base",
          "model_name": "LayoutModel",
          "model_module_version": "1.2.0",
          "state": {
            "_view_name": "LayoutView",
            "grid_template_rows": null,
            "right": null,
            "justify_content": null,
            "_view_module": "@jupyter-widgets/base",
            "overflow": null,
            "_model_module_version": "1.2.0",
            "_view_count": null,
            "flex_flow": null,
            "width": null,
            "min_width": null,
            "border": null,
            "align_items": null,
            "bottom": null,
            "_model_module": "@jupyter-widgets/base",
            "top": null,
            "grid_column": null,
            "overflow_y": null,
            "overflow_x": null,
            "grid_auto_flow": null,
            "grid_area": null,
            "grid_template_columns": null,
            "flex": null,
            "_model_name": "LayoutModel",
            "justify_items": null,
            "grid_row": null,
            "max_height": null,
            "align_content": null,
            "visibility": null,
            "align_self": null,
            "height": null,
            "min_height": null,
            "padding": null,
            "grid_auto_rows": null,
            "grid_gap": null,
            "max_width": null,
            "order": null,
            "_view_module_version": "1.2.0",
            "grid_template_areas": null,
            "object_position": null,
            "object_fit": null,
            "grid_auto_columns": null,
            "margin": null,
            "display": null,
            "left": null
          }
        },
        "85f8966479914073a81aaca22a957a05": {
          "model_module": "@jupyter-widgets/controls",
          "model_name": "HTMLModel",
          "model_module_version": "1.5.0",
          "state": {
            "_view_name": "HTMLView",
            "style": "IPY_MODEL_876c605f8384432c9035eb8b203823fe",
            "_dom_classes": [],
            "description": "",
            "_model_name": "HTMLModel",
            "placeholder": "​",
            "_view_module": "@jupyter-widgets/controls",
            "_model_module_version": "1.5.0",
            "value": "",
            "_view_count": null,
            "_view_module_version": "1.5.0",
            "description_tooltip": null,
            "_model_module": "@jupyter-widgets/controls",
            "layout": "IPY_MODEL_7591de3c46f0408498063cd49a284038"
          }
        },
        "80cc676d383c40ca858b2f4e16a16626": {
          "model_module": "@jupyter-widgets/controls",
          "model_name": "FloatProgressModel",
          "model_module_version": "1.5.0",
          "state": {
            "_view_name": "ProgressView",
            "style": "IPY_MODEL_2e9a747ec7d64092af2aa4b02b3e6ea9",
            "_dom_classes": [],
            "description": "",
            "_model_name": "FloatProgressModel",
            "bar_style": "success",
            "max": 479630,
            "_view_module": "@jupyter-widgets/controls",
            "_model_module_version": "1.5.0",
            "value": 479630,
            "_view_count": null,
            "_view_module_version": "1.5.0",
            "orientation": "horizontal",
            "min": 0,
            "description_tooltip": null,
            "_model_module": "@jupyter-widgets/controls",
            "layout": "IPY_MODEL_ab7a2d9a7af64c93903abe56718f2197"
          }
        },
        "09509ea100874b50a599fad024ea8efb": {
          "model_module": "@jupyter-widgets/controls",
          "model_name": "HTMLModel",
          "model_module_version": "1.5.0",
          "state": {
            "_view_name": "HTMLView",
            "style": "IPY_MODEL_833f9bbbb99b42c7b593ca9159990d78",
            "_dom_classes": [],
            "description": "",
            "_model_name": "HTMLModel",
            "placeholder": "​",
            "_view_module": "@jupyter-widgets/controls",
            "_model_module_version": "1.5.0",
            "value": " 479631/? [00:10&lt;00:00, 60505.33B/s]",
            "_view_count": null,
            "_view_module_version": "1.5.0",
            "description_tooltip": null,
            "_model_module": "@jupyter-widgets/controls",
            "layout": "IPY_MODEL_4706395484464d7a992409197eecd1c7"
          }
        },
        "876c605f8384432c9035eb8b203823fe": {
          "model_module": "@jupyter-widgets/controls",
          "model_name": "DescriptionStyleModel",
          "model_module_version": "1.5.0",
          "state": {
            "_view_name": "StyleView",
            "_model_name": "DescriptionStyleModel",
            "description_width": "",
            "_view_module": "@jupyter-widgets/base",
            "_model_module_version": "1.5.0",
            "_view_count": null,
            "_view_module_version": "1.2.0",
            "_model_module": "@jupyter-widgets/controls"
          }
        },
        "7591de3c46f0408498063cd49a284038": {
          "model_module": "@jupyter-widgets/base",
          "model_name": "LayoutModel",
          "model_module_version": "1.2.0",
          "state": {
            "_view_name": "LayoutView",
            "grid_template_rows": null,
            "right": null,
            "justify_content": null,
            "_view_module": "@jupyter-widgets/base",
            "overflow": null,
            "_model_module_version": "1.2.0",
            "_view_count": null,
            "flex_flow": null,
            "width": null,
            "min_width": null,
            "border": null,
            "align_items": null,
            "bottom": null,
            "_model_module": "@jupyter-widgets/base",
            "top": null,
            "grid_column": null,
            "overflow_y": null,
            "overflow_x": null,
            "grid_auto_flow": null,
            "grid_area": null,
            "grid_template_columns": null,
            "flex": null,
            "_model_name": "LayoutModel",
            "justify_items": null,
            "grid_row": null,
            "max_height": null,
            "align_content": null,
            "visibility": null,
            "align_self": null,
            "height": null,
            "min_height": null,
            "padding": null,
            "grid_auto_rows": null,
            "grid_gap": null,
            "max_width": null,
            "order": null,
            "_view_module_version": "1.2.0",
            "grid_template_areas": null,
            "object_position": null,
            "object_fit": null,
            "grid_auto_columns": null,
            "margin": null,
            "display": null,
            "left": null
          }
        },
        "2e9a747ec7d64092af2aa4b02b3e6ea9": {
          "model_module": "@jupyter-widgets/controls",
          "model_name": "ProgressStyleModel",
          "model_module_version": "1.5.0",
          "state": {
            "_view_name": "StyleView",
            "_model_name": "ProgressStyleModel",
            "description_width": "",
            "_view_module": "@jupyter-widgets/base",
            "_model_module_version": "1.5.0",
            "_view_count": null,
            "_view_module_version": "1.2.0",
            "bar_color": null,
            "_model_module": "@jupyter-widgets/controls"
          }
        },
        "ab7a2d9a7af64c93903abe56718f2197": {
          "model_module": "@jupyter-widgets/base",
          "model_name": "LayoutModel",
          "model_module_version": "1.2.0",
          "state": {
            "_view_name": "LayoutView",
            "grid_template_rows": null,
            "right": null,
            "justify_content": null,
            "_view_module": "@jupyter-widgets/base",
            "overflow": null,
            "_model_module_version": "1.2.0",
            "_view_count": null,
            "flex_flow": null,
            "width": null,
            "min_width": null,
            "border": null,
            "align_items": null,
            "bottom": null,
            "_model_module": "@jupyter-widgets/base",
            "top": null,
            "grid_column": null,
            "overflow_y": null,
            "overflow_x": null,
            "grid_auto_flow": null,
            "grid_area": null,
            "grid_template_columns": null,
            "flex": null,
            "_model_name": "LayoutModel",
            "justify_items": null,
            "grid_row": null,
            "max_height": null,
            "align_content": null,
            "visibility": null,
            "align_self": null,
            "height": null,
            "min_height": null,
            "padding": null,
            "grid_auto_rows": null,
            "grid_gap": null,
            "max_width": null,
            "order": null,
            "_view_module_version": "1.2.0",
            "grid_template_areas": null,
            "object_position": null,
            "object_fit": null,
            "grid_auto_columns": null,
            "margin": null,
            "display": null,
            "left": null
          }
        },
        "833f9bbbb99b42c7b593ca9159990d78": {
          "model_module": "@jupyter-widgets/controls",
          "model_name": "DescriptionStyleModel",
          "model_module_version": "1.5.0",
          "state": {
            "_view_name": "StyleView",
            "_model_name": "DescriptionStyleModel",
            "description_width": "",
            "_view_module": "@jupyter-widgets/base",
            "_model_module_version": "1.5.0",
            "_view_count": null,
            "_view_module_version": "1.2.0",
            "_model_module": "@jupyter-widgets/controls"
          }
        },
        "4706395484464d7a992409197eecd1c7": {
          "model_module": "@jupyter-widgets/base",
          "model_name": "LayoutModel",
          "model_module_version": "1.2.0",
          "state": {
            "_view_name": "LayoutView",
            "grid_template_rows": null,
            "right": null,
            "justify_content": null,
            "_view_module": "@jupyter-widgets/base",
            "overflow": null,
            "_model_module_version": "1.2.0",
            "_view_count": null,
            "flex_flow": null,
            "width": null,
            "min_width": null,
            "border": null,
            "align_items": null,
            "bottom": null,
            "_model_module": "@jupyter-widgets/base",
            "top": null,
            "grid_column": null,
            "overflow_y": null,
            "overflow_x": null,
            "grid_auto_flow": null,
            "grid_area": null,
            "grid_template_columns": null,
            "flex": null,
            "_model_name": "LayoutModel",
            "justify_items": null,
            "grid_row": null,
            "max_height": null,
            "align_content": null,
            "visibility": null,
            "align_self": null,
            "height": null,
            "min_height": null,
            "padding": null,
            "grid_auto_rows": null,
            "grid_gap": null,
            "max_width": null,
            "order": null,
            "_view_module_version": "1.2.0",
            "grid_template_areas": null,
            "object_position": null,
            "object_fit": null,
            "grid_auto_columns": null,
            "margin": null,
            "display": null,
            "left": null
          }
        },
        "5b2af76ed0d9441eaf25c88efe777d52": {
          "model_module": "@jupyter-widgets/controls",
          "model_name": "HBoxModel",
          "model_module_version": "1.5.0",
          "state": {
            "_view_name": "HBoxView",
            "_dom_classes": [],
            "_model_name": "HBoxModel",
            "_view_module": "@jupyter-widgets/controls",
            "_model_module_version": "1.5.0",
            "_view_count": null,
            "_view_module_version": "1.5.0",
            "box_style": "",
            "layout": "IPY_MODEL_da170e093df94c5ab2eea430b13330ec",
            "_model_module": "@jupyter-widgets/controls",
            "children": [
              "IPY_MODEL_09a0b5598a2f4c26bb410bad0d194d13",
              "IPY_MODEL_4ee74164895940dab5c56eb3a09432ae",
              "IPY_MODEL_eafc57092d3c4fb09bdd2a0495407667"
            ]
          }
        },
        "da170e093df94c5ab2eea430b13330ec": {
          "model_module": "@jupyter-widgets/base",
          "model_name": "LayoutModel",
          "model_module_version": "1.2.0",
          "state": {
            "_view_name": "LayoutView",
            "grid_template_rows": null,
            "right": null,
            "justify_content": null,
            "_view_module": "@jupyter-widgets/base",
            "overflow": null,
            "_model_module_version": "1.2.0",
            "_view_count": null,
            "flex_flow": null,
            "width": null,
            "min_width": null,
            "border": null,
            "align_items": null,
            "bottom": null,
            "_model_module": "@jupyter-widgets/base",
            "top": null,
            "grid_column": null,
            "overflow_y": null,
            "overflow_x": null,
            "grid_auto_flow": null,
            "grid_area": null,
            "grid_template_columns": null,
            "flex": null,
            "_model_name": "LayoutModel",
            "justify_items": null,
            "grid_row": null,
            "max_height": null,
            "align_content": null,
            "visibility": null,
            "align_self": null,
            "height": null,
            "min_height": null,
            "padding": null,
            "grid_auto_rows": null,
            "grid_gap": null,
            "max_width": null,
            "order": null,
            "_view_module_version": "1.2.0",
            "grid_template_areas": null,
            "object_position": null,
            "object_fit": null,
            "grid_auto_columns": null,
            "margin": null,
            "display": null,
            "left": null
          }
        },
        "09a0b5598a2f4c26bb410bad0d194d13": {
          "model_module": "@jupyter-widgets/controls",
          "model_name": "HTMLModel",
          "model_module_version": "1.5.0",
          "state": {
            "_view_name": "HTMLView",
            "style": "IPY_MODEL_b3350089d0b94565aa100cfeabc719a2",
            "_dom_classes": [],
            "description": "",
            "_model_name": "HTMLModel",
            "placeholder": "​",
            "_view_module": "@jupyter-widgets/controls",
            "_model_module_version": "1.5.0",
            "value": "",
            "_view_count": null,
            "_view_module_version": "1.5.0",
            "description_tooltip": null,
            "_model_module": "@jupyter-widgets/controls",
            "layout": "IPY_MODEL_8166ddd4450244b3808f0932fb648bc0"
          }
        },
        "4ee74164895940dab5c56eb3a09432ae": {
          "model_module": "@jupyter-widgets/controls",
          "model_name": "FloatProgressModel",
          "model_module_version": "1.5.0",
          "state": {
            "_view_name": "ProgressView",
            "style": "IPY_MODEL_5be06902840f43cf9837b5b6d643fa07",
            "_dom_classes": [],
            "description": "",
            "_model_name": "FloatProgressModel",
            "bar_style": "success",
            "max": 528,
            "_view_module": "@jupyter-widgets/controls",
            "_model_module_version": "1.5.0",
            "value": 528,
            "_view_count": null,
            "_view_module_version": "1.5.0",
            "orientation": "horizontal",
            "min": 0,
            "description_tooltip": null,
            "_model_module": "@jupyter-widgets/controls",
            "layout": "IPY_MODEL_1243e42b830845bc8b91440eb49b732c"
          }
        },
        "eafc57092d3c4fb09bdd2a0495407667": {
          "model_module": "@jupyter-widgets/controls",
          "model_name": "HTMLModel",
          "model_module_version": "1.5.0",
          "state": {
            "_view_name": "HTMLView",
            "style": "IPY_MODEL_8396114835774ffc9cb1692ac4fd6ee2",
            "_dom_classes": [],
            "description": "",
            "_model_name": "HTMLModel",
            "placeholder": "​",
            "_view_module": "@jupyter-widgets/controls",
            "_model_module_version": "1.5.0",
            "value": " 529/? [00:01&lt;00:00, 1759.89B/s]",
            "_view_count": null,
            "_view_module_version": "1.5.0",
            "description_tooltip": null,
            "_model_module": "@jupyter-widgets/controls",
            "layout": "IPY_MODEL_925522c7c9b14b11b6a2735543e4f1f7"
          }
        },
        "b3350089d0b94565aa100cfeabc719a2": {
          "model_module": "@jupyter-widgets/controls",
          "model_name": "DescriptionStyleModel",
          "model_module_version": "1.5.0",
          "state": {
            "_view_name": "StyleView",
            "_model_name": "DescriptionStyleModel",
            "description_width": "",
            "_view_module": "@jupyter-widgets/base",
            "_model_module_version": "1.5.0",
            "_view_count": null,
            "_view_module_version": "1.2.0",
            "_model_module": "@jupyter-widgets/controls"
          }
        },
        "8166ddd4450244b3808f0932fb648bc0": {
          "model_module": "@jupyter-widgets/base",
          "model_name": "LayoutModel",
          "model_module_version": "1.2.0",
          "state": {
            "_view_name": "LayoutView",
            "grid_template_rows": null,
            "right": null,
            "justify_content": null,
            "_view_module": "@jupyter-widgets/base",
            "overflow": null,
            "_model_module_version": "1.2.0",
            "_view_count": null,
            "flex_flow": null,
            "width": null,
            "min_width": null,
            "border": null,
            "align_items": null,
            "bottom": null,
            "_model_module": "@jupyter-widgets/base",
            "top": null,
            "grid_column": null,
            "overflow_y": null,
            "overflow_x": null,
            "grid_auto_flow": null,
            "grid_area": null,
            "grid_template_columns": null,
            "flex": null,
            "_model_name": "LayoutModel",
            "justify_items": null,
            "grid_row": null,
            "max_height": null,
            "align_content": null,
            "visibility": null,
            "align_self": null,
            "height": null,
            "min_height": null,
            "padding": null,
            "grid_auto_rows": null,
            "grid_gap": null,
            "max_width": null,
            "order": null,
            "_view_module_version": "1.2.0",
            "grid_template_areas": null,
            "object_position": null,
            "object_fit": null,
            "grid_auto_columns": null,
            "margin": null,
            "display": null,
            "left": null
          }
        },
        "5be06902840f43cf9837b5b6d643fa07": {
          "model_module": "@jupyter-widgets/controls",
          "model_name": "ProgressStyleModel",
          "model_module_version": "1.5.0",
          "state": {
            "_view_name": "StyleView",
            "_model_name": "ProgressStyleModel",
            "description_width": "",
            "_view_module": "@jupyter-widgets/base",
            "_model_module_version": "1.5.0",
            "_view_count": null,
            "_view_module_version": "1.2.0",
            "bar_color": null,
            "_model_module": "@jupyter-widgets/controls"
          }
        },
        "1243e42b830845bc8b91440eb49b732c": {
          "model_module": "@jupyter-widgets/base",
          "model_name": "LayoutModel",
          "model_module_version": "1.2.0",
          "state": {
            "_view_name": "LayoutView",
            "grid_template_rows": null,
            "right": null,
            "justify_content": null,
            "_view_module": "@jupyter-widgets/base",
            "overflow": null,
            "_model_module_version": "1.2.0",
            "_view_count": null,
            "flex_flow": null,
            "width": null,
            "min_width": null,
            "border": null,
            "align_items": null,
            "bottom": null,
            "_model_module": "@jupyter-widgets/base",
            "top": null,
            "grid_column": null,
            "overflow_y": null,
            "overflow_x": null,
            "grid_auto_flow": null,
            "grid_area": null,
            "grid_template_columns": null,
            "flex": null,
            "_model_name": "LayoutModel",
            "justify_items": null,
            "grid_row": null,
            "max_height": null,
            "align_content": null,
            "visibility": null,
            "align_self": null,
            "height": null,
            "min_height": null,
            "padding": null,
            "grid_auto_rows": null,
            "grid_gap": null,
            "max_width": null,
            "order": null,
            "_view_module_version": "1.2.0",
            "grid_template_areas": null,
            "object_position": null,
            "object_fit": null,
            "grid_auto_columns": null,
            "margin": null,
            "display": null,
            "left": null
          }
        },
        "8396114835774ffc9cb1692ac4fd6ee2": {
          "model_module": "@jupyter-widgets/controls",
          "model_name": "DescriptionStyleModel",
          "model_module_version": "1.5.0",
          "state": {
            "_view_name": "StyleView",
            "_model_name": "DescriptionStyleModel",
            "description_width": "",
            "_view_module": "@jupyter-widgets/base",
            "_model_module_version": "1.5.0",
            "_view_count": null,
            "_view_module_version": "1.2.0",
            "_model_module": "@jupyter-widgets/controls"
          }
        },
        "925522c7c9b14b11b6a2735543e4f1f7": {
          "model_module": "@jupyter-widgets/base",
          "model_name": "LayoutModel",
          "model_module_version": "1.2.0",
          "state": {
            "_view_name": "LayoutView",
            "grid_template_rows": null,
            "right": null,
            "justify_content": null,
            "_view_module": "@jupyter-widgets/base",
            "overflow": null,
            "_model_module_version": "1.2.0",
            "_view_count": null,
            "flex_flow": null,
            "width": null,
            "min_width": null,
            "border": null,
            "align_items": null,
            "bottom": null,
            "_model_module": "@jupyter-widgets/base",
            "top": null,
            "grid_column": null,
            "overflow_y": null,
            "overflow_x": null,
            "grid_auto_flow": null,
            "grid_area": null,
            "grid_template_columns": null,
            "flex": null,
            "_model_name": "LayoutModel",
            "justify_items": null,
            "grid_row": null,
            "max_height": null,
            "align_content": null,
            "visibility": null,
            "align_self": null,
            "height": null,
            "min_height": null,
            "padding": null,
            "grid_auto_rows": null,
            "grid_gap": null,
            "max_width": null,
            "order": null,
            "_view_module_version": "1.2.0",
            "grid_template_areas": null,
            "object_position": null,
            "object_fit": null,
            "grid_auto_columns": null,
            "margin": null,
            "display": null,
            "left": null
          }
        },
        "b69b6bd9308444c0901e925892f11cc6": {
          "model_module": "@jupyter-widgets/controls",
          "model_name": "HBoxModel",
          "model_module_version": "1.5.0",
          "state": {
            "_view_name": "HBoxView",
            "_dom_classes": [],
            "_model_name": "HBoxModel",
            "_view_module": "@jupyter-widgets/controls",
            "_model_module_version": "1.5.0",
            "_view_count": null,
            "_view_module_version": "1.5.0",
            "box_style": "",
            "layout": "IPY_MODEL_7090dd706a1e44d181148282dea14bb8",
            "_model_module": "@jupyter-widgets/controls",
            "children": [
              "IPY_MODEL_3175e9e93da2448295f50c97ae09688a",
              "IPY_MODEL_82583a6db4664d6ca7658392201bb274",
              "IPY_MODEL_9ec3d670858248b386cd12c4c32e483c"
            ]
          }
        },
        "7090dd706a1e44d181148282dea14bb8": {
          "model_module": "@jupyter-widgets/base",
          "model_name": "LayoutModel",
          "model_module_version": "1.2.0",
          "state": {
            "_view_name": "LayoutView",
            "grid_template_rows": null,
            "right": null,
            "justify_content": null,
            "_view_module": "@jupyter-widgets/base",
            "overflow": null,
            "_model_module_version": "1.2.0",
            "_view_count": null,
            "flex_flow": null,
            "width": null,
            "min_width": null,
            "border": null,
            "align_items": null,
            "bottom": null,
            "_model_module": "@jupyter-widgets/base",
            "top": null,
            "grid_column": null,
            "overflow_y": null,
            "overflow_x": null,
            "grid_auto_flow": null,
            "grid_area": null,
            "grid_template_columns": null,
            "flex": null,
            "_model_name": "LayoutModel",
            "justify_items": null,
            "grid_row": null,
            "max_height": null,
            "align_content": null,
            "visibility": null,
            "align_self": null,
            "height": null,
            "min_height": null,
            "padding": null,
            "grid_auto_rows": null,
            "grid_gap": null,
            "max_width": null,
            "order": null,
            "_view_module_version": "1.2.0",
            "grid_template_areas": null,
            "object_position": null,
            "object_fit": null,
            "grid_auto_columns": null,
            "margin": null,
            "display": null,
            "left": null
          }
        },
        "3175e9e93da2448295f50c97ae09688a": {
          "model_module": "@jupyter-widgets/controls",
          "model_name": "HTMLModel",
          "model_module_version": "1.5.0",
          "state": {
            "_view_name": "HTMLView",
            "style": "IPY_MODEL_f7d468fbe9494dceb9053c5d3e748593",
            "_dom_classes": [],
            "description": "",
            "_model_name": "HTMLModel",
            "placeholder": "​",
            "_view_module": "@jupyter-widgets/controls",
            "_model_module_version": "1.5.0",
            "value": "",
            "_view_count": null,
            "_view_module_version": "1.5.0",
            "description_tooltip": null,
            "_model_module": "@jupyter-widgets/controls",
            "layout": "IPY_MODEL_bdcd390bd46343779693b81421f3ac21"
          }
        },
        "82583a6db4664d6ca7658392201bb274": {
          "model_module": "@jupyter-widgets/controls",
          "model_name": "FloatProgressModel",
          "model_module_version": "1.5.0",
          "state": {
            "_view_name": "ProgressView",
            "style": "IPY_MODEL_f4d67c9307f14e1da141db5fc84ef6bc",
            "_dom_classes": [],
            "description": "",
            "_model_name": "FloatProgressModel",
            "bar_style": "success",
            "max": 515,
            "_view_module": "@jupyter-widgets/controls",
            "_model_module_version": "1.5.0",
            "value": 515,
            "_view_count": null,
            "_view_module_version": "1.5.0",
            "orientation": "horizontal",
            "min": 0,
            "description_tooltip": null,
            "_model_module": "@jupyter-widgets/controls",
            "layout": "IPY_MODEL_f079631e139d4b29ab1c06e22ddf1929"
          }
        },
        "9ec3d670858248b386cd12c4c32e483c": {
          "model_module": "@jupyter-widgets/controls",
          "model_name": "HTMLModel",
          "model_module_version": "1.5.0",
          "state": {
            "_view_name": "HTMLView",
            "style": "IPY_MODEL_20dbbc0669ba4a91a5c179b95b0ff401",
            "_dom_classes": [],
            "description": "",
            "_model_name": "HTMLModel",
            "placeholder": "​",
            "_view_module": "@jupyter-widgets/controls",
            "_model_module_version": "1.5.0",
            "value": " 516/? [00:03&lt;00:00, 2516.88B/s]",
            "_view_count": null,
            "_view_module_version": "1.5.0",
            "description_tooltip": null,
            "_model_module": "@jupyter-widgets/controls",
            "layout": "IPY_MODEL_ac8280f00f3c4cb5b493ae0ff366447e"
          }
        },
        "f7d468fbe9494dceb9053c5d3e748593": {
          "model_module": "@jupyter-widgets/controls",
          "model_name": "DescriptionStyleModel",
          "model_module_version": "1.5.0",
          "state": {
            "_view_name": "StyleView",
            "_model_name": "DescriptionStyleModel",
            "description_width": "",
            "_view_module": "@jupyter-widgets/base",
            "_model_module_version": "1.5.0",
            "_view_count": null,
            "_view_module_version": "1.2.0",
            "_model_module": "@jupyter-widgets/controls"
          }
        },
        "bdcd390bd46343779693b81421f3ac21": {
          "model_module": "@jupyter-widgets/base",
          "model_name": "LayoutModel",
          "model_module_version": "1.2.0",
          "state": {
            "_view_name": "LayoutView",
            "grid_template_rows": null,
            "right": null,
            "justify_content": null,
            "_view_module": "@jupyter-widgets/base",
            "overflow": null,
            "_model_module_version": "1.2.0",
            "_view_count": null,
            "flex_flow": null,
            "width": null,
            "min_width": null,
            "border": null,
            "align_items": null,
            "bottom": null,
            "_model_module": "@jupyter-widgets/base",
            "top": null,
            "grid_column": null,
            "overflow_y": null,
            "overflow_x": null,
            "grid_auto_flow": null,
            "grid_area": null,
            "grid_template_columns": null,
            "flex": null,
            "_model_name": "LayoutModel",
            "justify_items": null,
            "grid_row": null,
            "max_height": null,
            "align_content": null,
            "visibility": null,
            "align_self": null,
            "height": null,
            "min_height": null,
            "padding": null,
            "grid_auto_rows": null,
            "grid_gap": null,
            "max_width": null,
            "order": null,
            "_view_module_version": "1.2.0",
            "grid_template_areas": null,
            "object_position": null,
            "object_fit": null,
            "grid_auto_columns": null,
            "margin": null,
            "display": null,
            "left": null
          }
        },
        "f4d67c9307f14e1da141db5fc84ef6bc": {
          "model_module": "@jupyter-widgets/controls",
          "model_name": "ProgressStyleModel",
          "model_module_version": "1.5.0",
          "state": {
            "_view_name": "StyleView",
            "_model_name": "ProgressStyleModel",
            "description_width": "",
            "_view_module": "@jupyter-widgets/base",
            "_model_module_version": "1.5.0",
            "_view_count": null,
            "_view_module_version": "1.2.0",
            "bar_color": null,
            "_model_module": "@jupyter-widgets/controls"
          }
        },
        "f079631e139d4b29ab1c06e22ddf1929": {
          "model_module": "@jupyter-widgets/base",
          "model_name": "LayoutModel",
          "model_module_version": "1.2.0",
          "state": {
            "_view_name": "LayoutView",
            "grid_template_rows": null,
            "right": null,
            "justify_content": null,
            "_view_module": "@jupyter-widgets/base",
            "overflow": null,
            "_model_module_version": "1.2.0",
            "_view_count": null,
            "flex_flow": null,
            "width": null,
            "min_width": null,
            "border": null,
            "align_items": null,
            "bottom": null,
            "_model_module": "@jupyter-widgets/base",
            "top": null,
            "grid_column": null,
            "overflow_y": null,
            "overflow_x": null,
            "grid_auto_flow": null,
            "grid_area": null,
            "grid_template_columns": null,
            "flex": null,
            "_model_name": "LayoutModel",
            "justify_items": null,
            "grid_row": null,
            "max_height": null,
            "align_content": null,
            "visibility": null,
            "align_self": null,
            "height": null,
            "min_height": null,
            "padding": null,
            "grid_auto_rows": null,
            "grid_gap": null,
            "max_width": null,
            "order": null,
            "_view_module_version": "1.2.0",
            "grid_template_areas": null,
            "object_position": null,
            "object_fit": null,
            "grid_auto_columns": null,
            "margin": null,
            "display": null,
            "left": null
          }
        },
        "20dbbc0669ba4a91a5c179b95b0ff401": {
          "model_module": "@jupyter-widgets/controls",
          "model_name": "DescriptionStyleModel",
          "model_module_version": "1.5.0",
          "state": {
            "_view_name": "StyleView",
            "_model_name": "DescriptionStyleModel",
            "description_width": "",
            "_view_module": "@jupyter-widgets/base",
            "_model_module_version": "1.5.0",
            "_view_count": null,
            "_view_module_version": "1.2.0",
            "_model_module": "@jupyter-widgets/controls"
          }
        },
        "ac8280f00f3c4cb5b493ae0ff366447e": {
          "model_module": "@jupyter-widgets/base",
          "model_name": "LayoutModel",
          "model_module_version": "1.2.0",
          "state": {
            "_view_name": "LayoutView",
            "grid_template_rows": null,
            "right": null,
            "justify_content": null,
            "_view_module": "@jupyter-widgets/base",
            "overflow": null,
            "_model_module_version": "1.2.0",
            "_view_count": null,
            "flex_flow": null,
            "width": null,
            "min_width": null,
            "border": null,
            "align_items": null,
            "bottom": null,
            "_model_module": "@jupyter-widgets/base",
            "top": null,
            "grid_column": null,
            "overflow_y": null,
            "overflow_x": null,
            "grid_auto_flow": null,
            "grid_area": null,
            "grid_template_columns": null,
            "flex": null,
            "_model_name": "LayoutModel",
            "justify_items": null,
            "grid_row": null,
            "max_height": null,
            "align_content": null,
            "visibility": null,
            "align_self": null,
            "height": null,
            "min_height": null,
            "padding": null,
            "grid_auto_rows": null,
            "grid_gap": null,
            "max_width": null,
            "order": null,
            "_view_module_version": "1.2.0",
            "grid_template_areas": null,
            "object_position": null,
            "object_fit": null,
            "grid_auto_columns": null,
            "margin": null,
            "display": null,
            "left": null
          }
        },
        "5dfc682a641f4196a88d0ed793905c27": {
          "model_module": "@jupyter-widgets/controls",
          "model_name": "HBoxModel",
          "model_module_version": "1.5.0",
          "state": {
            "_view_name": "HBoxView",
            "_dom_classes": [],
            "_model_name": "HBoxModel",
            "_view_module": "@jupyter-widgets/controls",
            "_model_module_version": "1.5.0",
            "_view_count": null,
            "_view_module_version": "1.5.0",
            "box_style": "",
            "layout": "IPY_MODEL_8ab41af5cf9441e8a7c22df5c4f10491",
            "_model_module": "@jupyter-widgets/controls",
            "children": [
              "IPY_MODEL_564dc1d4070447b3ac2722de04790507",
              "IPY_MODEL_deb94e7be93447aeb262deb228cc483c",
              "IPY_MODEL_3e67982eca704420a8341d5475e4be11"
            ]
          }
        },
        "8ab41af5cf9441e8a7c22df5c4f10491": {
          "model_module": "@jupyter-widgets/base",
          "model_name": "LayoutModel",
          "model_module_version": "1.2.0",
          "state": {
            "_view_name": "LayoutView",
            "grid_template_rows": null,
            "right": null,
            "justify_content": null,
            "_view_module": "@jupyter-widgets/base",
            "overflow": null,
            "_model_module_version": "1.2.0",
            "_view_count": null,
            "flex_flow": null,
            "width": null,
            "min_width": null,
            "border": null,
            "align_items": null,
            "bottom": null,
            "_model_module": "@jupyter-widgets/base",
            "top": null,
            "grid_column": null,
            "overflow_y": null,
            "overflow_x": null,
            "grid_auto_flow": null,
            "grid_area": null,
            "grid_template_columns": null,
            "flex": null,
            "_model_name": "LayoutModel",
            "justify_items": null,
            "grid_row": null,
            "max_height": null,
            "align_content": null,
            "visibility": null,
            "align_self": null,
            "height": null,
            "min_height": null,
            "padding": null,
            "grid_auto_rows": null,
            "grid_gap": null,
            "max_width": null,
            "order": null,
            "_view_module_version": "1.2.0",
            "grid_template_areas": null,
            "object_position": null,
            "object_fit": null,
            "grid_auto_columns": null,
            "margin": null,
            "display": null,
            "left": null
          }
        },
        "564dc1d4070447b3ac2722de04790507": {
          "model_module": "@jupyter-widgets/controls",
          "model_name": "HTMLModel",
          "model_module_version": "1.5.0",
          "state": {
            "_view_name": "HTMLView",
            "style": "IPY_MODEL_4d3002ac21414dda860a07054dbc3a89",
            "_dom_classes": [],
            "description": "",
            "_model_name": "HTMLModel",
            "placeholder": "​",
            "_view_module": "@jupyter-widgets/controls",
            "_model_module_version": "1.5.0",
            "value": "",
            "_view_count": null,
            "_view_module_version": "1.5.0",
            "description_tooltip": null,
            "_model_module": "@jupyter-widgets/controls",
            "layout": "IPY_MODEL_6dbab75d407a487d881df92bc316cb8a"
          }
        },
        "deb94e7be93447aeb262deb228cc483c": {
          "model_module": "@jupyter-widgets/controls",
          "model_name": "FloatProgressModel",
          "model_module_version": "1.5.0",
          "state": {
            "_view_name": "ProgressView",
            "style": "IPY_MODEL_026e66466ab746a784c394646bd13fb0",
            "_dom_classes": [],
            "description": "",
            "_model_name": "FloatProgressModel",
            "bar_style": "success",
            "max": 227,
            "_view_module": "@jupyter-widgets/controls",
            "_model_module_version": "1.5.0",
            "value": 227,
            "_view_count": null,
            "_view_module_version": "1.5.0",
            "orientation": "horizontal",
            "min": 0,
            "description_tooltip": null,
            "_model_module": "@jupyter-widgets/controls",
            "layout": "IPY_MODEL_86aa36ae9bfc4e9e9a7fcee883635c9a"
          }
        },
        "3e67982eca704420a8341d5475e4be11": {
          "model_module": "@jupyter-widgets/controls",
          "model_name": "HTMLModel",
          "model_module_version": "1.5.0",
          "state": {
            "_view_name": "HTMLView",
            "style": "IPY_MODEL_cf8012bb78404b949b972572d4c6910c",
            "_dom_classes": [],
            "description": "",
            "_model_name": "HTMLModel",
            "placeholder": "​",
            "_view_module": "@jupyter-widgets/controls",
            "_model_module_version": "1.5.0",
            "value": " 228/? [00:01&lt;00:00, 129.77B/s]",
            "_view_count": null,
            "_view_module_version": "1.5.0",
            "description_tooltip": null,
            "_model_module": "@jupyter-widgets/controls",
            "layout": "IPY_MODEL_06b6987d63044b0a96d849ffa3e2053f"
          }
        },
        "4d3002ac21414dda860a07054dbc3a89": {
          "model_module": "@jupyter-widgets/controls",
          "model_name": "DescriptionStyleModel",
          "model_module_version": "1.5.0",
          "state": {
            "_view_name": "StyleView",
            "_model_name": "DescriptionStyleModel",
            "description_width": "",
            "_view_module": "@jupyter-widgets/base",
            "_model_module_version": "1.5.0",
            "_view_count": null,
            "_view_module_version": "1.2.0",
            "_model_module": "@jupyter-widgets/controls"
          }
        },
        "6dbab75d407a487d881df92bc316cb8a": {
          "model_module": "@jupyter-widgets/base",
          "model_name": "LayoutModel",
          "model_module_version": "1.2.0",
          "state": {
            "_view_name": "LayoutView",
            "grid_template_rows": null,
            "right": null,
            "justify_content": null,
            "_view_module": "@jupyter-widgets/base",
            "overflow": null,
            "_model_module_version": "1.2.0",
            "_view_count": null,
            "flex_flow": null,
            "width": null,
            "min_width": null,
            "border": null,
            "align_items": null,
            "bottom": null,
            "_model_module": "@jupyter-widgets/base",
            "top": null,
            "grid_column": null,
            "overflow_y": null,
            "overflow_x": null,
            "grid_auto_flow": null,
            "grid_area": null,
            "grid_template_columns": null,
            "flex": null,
            "_model_name": "LayoutModel",
            "justify_items": null,
            "grid_row": null,
            "max_height": null,
            "align_content": null,
            "visibility": null,
            "align_self": null,
            "height": null,
            "min_height": null,
            "padding": null,
            "grid_auto_rows": null,
            "grid_gap": null,
            "max_width": null,
            "order": null,
            "_view_module_version": "1.2.0",
            "grid_template_areas": null,
            "object_position": null,
            "object_fit": null,
            "grid_auto_columns": null,
            "margin": null,
            "display": null,
            "left": null
          }
        },
        "026e66466ab746a784c394646bd13fb0": {
          "model_module": "@jupyter-widgets/controls",
          "model_name": "ProgressStyleModel",
          "model_module_version": "1.5.0",
          "state": {
            "_view_name": "StyleView",
            "_model_name": "ProgressStyleModel",
            "description_width": "",
            "_view_module": "@jupyter-widgets/base",
            "_model_module_version": "1.5.0",
            "_view_count": null,
            "_view_module_version": "1.2.0",
            "bar_color": null,
            "_model_module": "@jupyter-widgets/controls"
          }
        },
        "86aa36ae9bfc4e9e9a7fcee883635c9a": {
          "model_module": "@jupyter-widgets/base",
          "model_name": "LayoutModel",
          "model_module_version": "1.2.0",
          "state": {
            "_view_name": "LayoutView",
            "grid_template_rows": null,
            "right": null,
            "justify_content": null,
            "_view_module": "@jupyter-widgets/base",
            "overflow": null,
            "_model_module_version": "1.2.0",
            "_view_count": null,
            "flex_flow": null,
            "width": null,
            "min_width": null,
            "border": null,
            "align_items": null,
            "bottom": null,
            "_model_module": "@jupyter-widgets/base",
            "top": null,
            "grid_column": null,
            "overflow_y": null,
            "overflow_x": null,
            "grid_auto_flow": null,
            "grid_area": null,
            "grid_template_columns": null,
            "flex": null,
            "_model_name": "LayoutModel",
            "justify_items": null,
            "grid_row": null,
            "max_height": null,
            "align_content": null,
            "visibility": null,
            "align_self": null,
            "height": null,
            "min_height": null,
            "padding": null,
            "grid_auto_rows": null,
            "grid_gap": null,
            "max_width": null,
            "order": null,
            "_view_module_version": "1.2.0",
            "grid_template_areas": null,
            "object_position": null,
            "object_fit": null,
            "grid_auto_columns": null,
            "margin": null,
            "display": null,
            "left": null
          }
        },
        "cf8012bb78404b949b972572d4c6910c": {
          "model_module": "@jupyter-widgets/controls",
          "model_name": "DescriptionStyleModel",
          "model_module_version": "1.5.0",
          "state": {
            "_view_name": "StyleView",
            "_model_name": "DescriptionStyleModel",
            "description_width": "",
            "_view_module": "@jupyter-widgets/base",
            "_model_module_version": "1.5.0",
            "_view_count": null,
            "_view_module_version": "1.2.0",
            "_model_module": "@jupyter-widgets/controls"
          }
        },
        "06b6987d63044b0a96d849ffa3e2053f": {
          "model_module": "@jupyter-widgets/base",
          "model_name": "LayoutModel",
          "model_module_version": "1.2.0",
          "state": {
            "_view_name": "LayoutView",
            "grid_template_rows": null,
            "right": null,
            "justify_content": null,
            "_view_module": "@jupyter-widgets/base",
            "overflow": null,
            "_model_module_version": "1.2.0",
            "_view_count": null,
            "flex_flow": null,
            "width": null,
            "min_width": null,
            "border": null,
            "align_items": null,
            "bottom": null,
            "_model_module": "@jupyter-widgets/base",
            "top": null,
            "grid_column": null,
            "overflow_y": null,
            "overflow_x": null,
            "grid_auto_flow": null,
            "grid_area": null,
            "grid_template_columns": null,
            "flex": null,
            "_model_name": "LayoutModel",
            "justify_items": null,
            "grid_row": null,
            "max_height": null,
            "align_content": null,
            "visibility": null,
            "align_self": null,
            "height": null,
            "min_height": null,
            "padding": null,
            "grid_auto_rows": null,
            "grid_gap": null,
            "max_width": null,
            "order": null,
            "_view_module_version": "1.2.0",
            "grid_template_areas": null,
            "object_position": null,
            "object_fit": null,
            "grid_auto_columns": null,
            "margin": null,
            "display": null,
            "left": null
          }
        },
        "12f0a519d33a4e15a31d815b51090d73": {
          "model_module": "@jupyter-widgets/controls",
          "model_name": "HBoxModel",
          "model_module_version": "1.5.0",
          "state": {
            "_view_name": "HBoxView",
            "_dom_classes": [],
            "_model_name": "HBoxModel",
            "_view_module": "@jupyter-widgets/controls",
            "_model_module_version": "1.5.0",
            "_view_count": null,
            "_view_module_version": "1.5.0",
            "box_style": "",
            "layout": "IPY_MODEL_0c576aff842b4e5f99375edf60d1be2e",
            "_model_module": "@jupyter-widgets/controls",
            "children": [
              "IPY_MODEL_9af19b4e090e434a98f2b89ea9da3ba7",
              "IPY_MODEL_3ce6182b635145c78a94e1059dd14ac9",
              "IPY_MODEL_64e3fb2dd7bb493b84742df571909419"
            ]
          }
        },
        "0c576aff842b4e5f99375edf60d1be2e": {
          "model_module": "@jupyter-widgets/base",
          "model_name": "LayoutModel",
          "model_module_version": "1.2.0",
          "state": {
            "_view_name": "LayoutView",
            "grid_template_rows": null,
            "right": null,
            "justify_content": null,
            "_view_module": "@jupyter-widgets/base",
            "overflow": null,
            "_model_module_version": "1.2.0",
            "_view_count": null,
            "flex_flow": null,
            "width": null,
            "min_width": null,
            "border": null,
            "align_items": null,
            "bottom": null,
            "_model_module": "@jupyter-widgets/base",
            "top": null,
            "grid_column": null,
            "overflow_y": null,
            "overflow_x": null,
            "grid_auto_flow": null,
            "grid_area": null,
            "grid_template_columns": null,
            "flex": null,
            "_model_name": "LayoutModel",
            "justify_items": null,
            "grid_row": null,
            "max_height": null,
            "align_content": null,
            "visibility": null,
            "align_self": null,
            "height": null,
            "min_height": null,
            "padding": null,
            "grid_auto_rows": null,
            "grid_gap": null,
            "max_width": null,
            "order": null,
            "_view_module_version": "1.2.0",
            "grid_template_areas": null,
            "object_position": null,
            "object_fit": null,
            "grid_auto_columns": null,
            "margin": null,
            "display": null,
            "left": null
          }
        },
        "9af19b4e090e434a98f2b89ea9da3ba7": {
          "model_module": "@jupyter-widgets/controls",
          "model_name": "HTMLModel",
          "model_module_version": "1.5.0",
          "state": {
            "_view_name": "HTMLView",
            "style": "IPY_MODEL_d8aab4008f7e41a5b2398890b448c0dc",
            "_dom_classes": [],
            "description": "",
            "_model_name": "HTMLModel",
            "placeholder": "​",
            "_view_module": "@jupyter-widgets/controls",
            "_model_module_version": "1.5.0",
            "value": "",
            "_view_count": null,
            "_view_module_version": "1.5.0",
            "description_tooltip": null,
            "_model_module": "@jupyter-widgets/controls",
            "layout": "IPY_MODEL_7ef709d54f5a4ee8b126fe6621218e15"
          }
        },
        "3ce6182b635145c78a94e1059dd14ac9": {
          "model_module": "@jupyter-widgets/controls",
          "model_name": "FloatProgressModel",
          "model_module_version": "1.5.0",
          "state": {
            "_view_name": "ProgressView",
            "style": "IPY_MODEL_73a6b00ddb6a45e981e5f2a4667714c5",
            "_dom_classes": [],
            "description": "",
            "_model_name": "FloatProgressModel",
            "bar_style": "success",
            "max": 224,
            "_view_module": "@jupyter-widgets/controls",
            "_model_module_version": "1.5.0",
            "value": 224,
            "_view_count": null,
            "_view_module_version": "1.5.0",
            "orientation": "horizontal",
            "min": 0,
            "description_tooltip": null,
            "_model_module": "@jupyter-widgets/controls",
            "layout": "IPY_MODEL_3eec9e9d3d24452391670c88a193322a"
          }
        },
        "64e3fb2dd7bb493b84742df571909419": {
          "model_module": "@jupyter-widgets/controls",
          "model_name": "HTMLModel",
          "model_module_version": "1.5.0",
          "state": {
            "_view_name": "HTMLView",
            "style": "IPY_MODEL_f854652205d34671812b27da16c88ebf",
            "_dom_classes": [],
            "description": "",
            "_model_name": "HTMLModel",
            "placeholder": "​",
            "_view_module": "@jupyter-widgets/controls",
            "_model_module_version": "1.5.0",
            "value": " 225/? [00:15&lt;00:00, 14.22B/s]",
            "_view_count": null,
            "_view_module_version": "1.5.0",
            "description_tooltip": null,
            "_model_module": "@jupyter-widgets/controls",
            "layout": "IPY_MODEL_b36dccb1a80143e0be71356a90f2870c"
          }
        },
        "d8aab4008f7e41a5b2398890b448c0dc": {
          "model_module": "@jupyter-widgets/controls",
          "model_name": "DescriptionStyleModel",
          "model_module_version": "1.5.0",
          "state": {
            "_view_name": "StyleView",
            "_model_name": "DescriptionStyleModel",
            "description_width": "",
            "_view_module": "@jupyter-widgets/base",
            "_model_module_version": "1.5.0",
            "_view_count": null,
            "_view_module_version": "1.2.0",
            "_model_module": "@jupyter-widgets/controls"
          }
        },
        "7ef709d54f5a4ee8b126fe6621218e15": {
          "model_module": "@jupyter-widgets/base",
          "model_name": "LayoutModel",
          "model_module_version": "1.2.0",
          "state": {
            "_view_name": "LayoutView",
            "grid_template_rows": null,
            "right": null,
            "justify_content": null,
            "_view_module": "@jupyter-widgets/base",
            "overflow": null,
            "_model_module_version": "1.2.0",
            "_view_count": null,
            "flex_flow": null,
            "width": null,
            "min_width": null,
            "border": null,
            "align_items": null,
            "bottom": null,
            "_model_module": "@jupyter-widgets/base",
            "top": null,
            "grid_column": null,
            "overflow_y": null,
            "overflow_x": null,
            "grid_auto_flow": null,
            "grid_area": null,
            "grid_template_columns": null,
            "flex": null,
            "_model_name": "LayoutModel",
            "justify_items": null,
            "grid_row": null,
            "max_height": null,
            "align_content": null,
            "visibility": null,
            "align_self": null,
            "height": null,
            "min_height": null,
            "padding": null,
            "grid_auto_rows": null,
            "grid_gap": null,
            "max_width": null,
            "order": null,
            "_view_module_version": "1.2.0",
            "grid_template_areas": null,
            "object_position": null,
            "object_fit": null,
            "grid_auto_columns": null,
            "margin": null,
            "display": null,
            "left": null
          }
        },
        "73a6b00ddb6a45e981e5f2a4667714c5": {
          "model_module": "@jupyter-widgets/controls",
          "model_name": "ProgressStyleModel",
          "model_module_version": "1.5.0",
          "state": {
            "_view_name": "StyleView",
            "_model_name": "ProgressStyleModel",
            "description_width": "",
            "_view_module": "@jupyter-widgets/base",
            "_model_module_version": "1.5.0",
            "_view_count": null,
            "_view_module_version": "1.2.0",
            "bar_color": null,
            "_model_module": "@jupyter-widgets/controls"
          }
        },
        "3eec9e9d3d24452391670c88a193322a": {
          "model_module": "@jupyter-widgets/base",
          "model_name": "LayoutModel",
          "model_module_version": "1.2.0",
          "state": {
            "_view_name": "LayoutView",
            "grid_template_rows": null,
            "right": null,
            "justify_content": null,
            "_view_module": "@jupyter-widgets/base",
            "overflow": null,
            "_model_module_version": "1.2.0",
            "_view_count": null,
            "flex_flow": null,
            "width": null,
            "min_width": null,
            "border": null,
            "align_items": null,
            "bottom": null,
            "_model_module": "@jupyter-widgets/base",
            "top": null,
            "grid_column": null,
            "overflow_y": null,
            "overflow_x": null,
            "grid_auto_flow": null,
            "grid_area": null,
            "grid_template_columns": null,
            "flex": null,
            "_model_name": "LayoutModel",
            "justify_items": null,
            "grid_row": null,
            "max_height": null,
            "align_content": null,
            "visibility": null,
            "align_self": null,
            "height": null,
            "min_height": null,
            "padding": null,
            "grid_auto_rows": null,
            "grid_gap": null,
            "max_width": null,
            "order": null,
            "_view_module_version": "1.2.0",
            "grid_template_areas": null,
            "object_position": null,
            "object_fit": null,
            "grid_auto_columns": null,
            "margin": null,
            "display": null,
            "left": null
          }
        },
        "f854652205d34671812b27da16c88ebf": {
          "model_module": "@jupyter-widgets/controls",
          "model_name": "DescriptionStyleModel",
          "model_module_version": "1.5.0",
          "state": {
            "_view_name": "StyleView",
            "_model_name": "DescriptionStyleModel",
            "description_width": "",
            "_view_module": "@jupyter-widgets/base",
            "_model_module_version": "1.5.0",
            "_view_count": null,
            "_view_module_version": "1.2.0",
            "_model_module": "@jupyter-widgets/controls"
          }
        },
        "b36dccb1a80143e0be71356a90f2870c": {
          "model_module": "@jupyter-widgets/base",
          "model_name": "LayoutModel",
          "model_module_version": "1.2.0",
          "state": {
            "_view_name": "LayoutView",
            "grid_template_rows": null,
            "right": null,
            "justify_content": null,
            "_view_module": "@jupyter-widgets/base",
            "overflow": null,
            "_model_module_version": "1.2.0",
            "_view_count": null,
            "flex_flow": null,
            "width": null,
            "min_width": null,
            "border": null,
            "align_items": null,
            "bottom": null,
            "_model_module": "@jupyter-widgets/base",
            "top": null,
            "grid_column": null,
            "overflow_y": null,
            "overflow_x": null,
            "grid_auto_flow": null,
            "grid_area": null,
            "grid_template_columns": null,
            "flex": null,
            "_model_name": "LayoutModel",
            "justify_items": null,
            "grid_row": null,
            "max_height": null,
            "align_content": null,
            "visibility": null,
            "align_self": null,
            "height": null,
            "min_height": null,
            "padding": null,
            "grid_auto_rows": null,
            "grid_gap": null,
            "max_width": null,
            "order": null,
            "_view_module_version": "1.2.0",
            "grid_template_areas": null,
            "object_position": null,
            "object_fit": null,
            "grid_auto_columns": null,
            "margin": null,
            "display": null,
            "left": null
          }
        },
        "78b3e1ff79e64560a87bc6d2752a4b9f": {
          "model_module": "@jupyter-widgets/controls",
          "model_name": "HBoxModel",
          "model_module_version": "1.5.0",
          "state": {
            "_view_name": "HBoxView",
            "_dom_classes": [],
            "_model_name": "HBoxModel",
            "_view_module": "@jupyter-widgets/controls",
            "_model_module_version": "1.5.0",
            "_view_count": null,
            "_view_module_version": "1.5.0",
            "box_style": "",
            "layout": "IPY_MODEL_8758c95fb796451ba77a142b15a87832",
            "_model_module": "@jupyter-widgets/controls",
            "children": [
              "IPY_MODEL_040af87798264ce9aaa2e95f3e003ce6",
              "IPY_MODEL_f1e924ce5dec44c99000af142f7eaf6f",
              "IPY_MODEL_d51de76c6f48497eae62fd709a2233e6"
            ]
          }
        },
        "8758c95fb796451ba77a142b15a87832": {
          "model_module": "@jupyter-widgets/base",
          "model_name": "LayoutModel",
          "model_module_version": "1.2.0",
          "state": {
            "_view_name": "LayoutView",
            "grid_template_rows": null,
            "right": null,
            "justify_content": null,
            "_view_module": "@jupyter-widgets/base",
            "overflow": null,
            "_model_module_version": "1.2.0",
            "_view_count": null,
            "flex_flow": null,
            "width": null,
            "min_width": null,
            "border": null,
            "align_items": null,
            "bottom": null,
            "_model_module": "@jupyter-widgets/base",
            "top": null,
            "grid_column": null,
            "overflow_y": null,
            "overflow_x": null,
            "grid_auto_flow": null,
            "grid_area": null,
            "grid_template_columns": null,
            "flex": null,
            "_model_name": "LayoutModel",
            "justify_items": null,
            "grid_row": null,
            "max_height": null,
            "align_content": null,
            "visibility": null,
            "align_self": null,
            "height": null,
            "min_height": null,
            "padding": null,
            "grid_auto_rows": null,
            "grid_gap": null,
            "max_width": null,
            "order": null,
            "_view_module_version": "1.2.0",
            "grid_template_areas": null,
            "object_position": null,
            "object_fit": null,
            "grid_auto_columns": null,
            "margin": null,
            "display": null,
            "left": null
          }
        },
        "040af87798264ce9aaa2e95f3e003ce6": {
          "model_module": "@jupyter-widgets/controls",
          "model_name": "HTMLModel",
          "model_module_version": "1.5.0",
          "state": {
            "_view_name": "HTMLView",
            "style": "IPY_MODEL_7e6da5ec38c7462d8db107645394b773",
            "_dom_classes": [],
            "description": "",
            "_model_name": "HTMLModel",
            "placeholder": "​",
            "_view_module": "@jupyter-widgets/controls",
            "_model_module_version": "1.5.0",
            "value": "",
            "_view_count": null,
            "_view_module_version": "1.5.0",
            "description_tooltip": null,
            "_model_module": "@jupyter-widgets/controls",
            "layout": "IPY_MODEL_f72fa94e86574d0d95cff650a98d42d3"
          }
        },
        "f1e924ce5dec44c99000af142f7eaf6f": {
          "model_module": "@jupyter-widgets/controls",
          "model_name": "FloatProgressModel",
          "model_module_version": "1.5.0",
          "state": {
            "_view_name": "ProgressView",
            "style": "IPY_MODEL_9e977a11058940fda9a327193e4dfdf1",
            "_dom_classes": [],
            "description": "",
            "_model_name": "FloatProgressModel",
            "bar_style": "success",
            "max": 59338,
            "_view_module": "@jupyter-widgets/controls",
            "_model_module_version": "1.5.0",
            "value": 59338,
            "_view_count": null,
            "_view_module_version": "1.5.0",
            "orientation": "horizontal",
            "min": 0,
            "description_tooltip": null,
            "_model_module": "@jupyter-widgets/controls",
            "layout": "IPY_MODEL_534a47cbb4f744d1b114b419095374ff"
          }
        },
        "d51de76c6f48497eae62fd709a2233e6": {
          "model_module": "@jupyter-widgets/controls",
          "model_name": "HTMLModel",
          "model_module_version": "1.5.0",
          "state": {
            "_view_name": "HTMLView",
            "style": "IPY_MODEL_736f7eb526a440558d9f37425af4703c",
            "_dom_classes": [],
            "description": "",
            "_model_name": "HTMLModel",
            "placeholder": "​",
            "_view_module": "@jupyter-widgets/controls",
            "_model_module_version": "1.5.0",
            "value": " 59339/? [00:02&lt;00:00, 54101.33B/s]",
            "_view_count": null,
            "_view_module_version": "1.5.0",
            "description_tooltip": null,
            "_model_module": "@jupyter-widgets/controls",
            "layout": "IPY_MODEL_1782bca784004edcbc2064d80211e941"
          }
        },
        "7e6da5ec38c7462d8db107645394b773": {
          "model_module": "@jupyter-widgets/controls",
          "model_name": "DescriptionStyleModel",
          "model_module_version": "1.5.0",
          "state": {
            "_view_name": "StyleView",
            "_model_name": "DescriptionStyleModel",
            "description_width": "",
            "_view_module": "@jupyter-widgets/base",
            "_model_module_version": "1.5.0",
            "_view_count": null,
            "_view_module_version": "1.2.0",
            "_model_module": "@jupyter-widgets/controls"
          }
        },
        "f72fa94e86574d0d95cff650a98d42d3": {
          "model_module": "@jupyter-widgets/base",
          "model_name": "LayoutModel",
          "model_module_version": "1.2.0",
          "state": {
            "_view_name": "LayoutView",
            "grid_template_rows": null,
            "right": null,
            "justify_content": null,
            "_view_module": "@jupyter-widgets/base",
            "overflow": null,
            "_model_module_version": "1.2.0",
            "_view_count": null,
            "flex_flow": null,
            "width": null,
            "min_width": null,
            "border": null,
            "align_items": null,
            "bottom": null,
            "_model_module": "@jupyter-widgets/base",
            "top": null,
            "grid_column": null,
            "overflow_y": null,
            "overflow_x": null,
            "grid_auto_flow": null,
            "grid_area": null,
            "grid_template_columns": null,
            "flex": null,
            "_model_name": "LayoutModel",
            "justify_items": null,
            "grid_row": null,
            "max_height": null,
            "align_content": null,
            "visibility": null,
            "align_self": null,
            "height": null,
            "min_height": null,
            "padding": null,
            "grid_auto_rows": null,
            "grid_gap": null,
            "max_width": null,
            "order": null,
            "_view_module_version": "1.2.0",
            "grid_template_areas": null,
            "object_position": null,
            "object_fit": null,
            "grid_auto_columns": null,
            "margin": null,
            "display": null,
            "left": null
          }
        },
        "9e977a11058940fda9a327193e4dfdf1": {
          "model_module": "@jupyter-widgets/controls",
          "model_name": "ProgressStyleModel",
          "model_module_version": "1.5.0",
          "state": {
            "_view_name": "StyleView",
            "_model_name": "ProgressStyleModel",
            "description_width": "",
            "_view_module": "@jupyter-widgets/base",
            "_model_module_version": "1.5.0",
            "_view_count": null,
            "_view_module_version": "1.2.0",
            "bar_color": null,
            "_model_module": "@jupyter-widgets/controls"
          }
        },
        "534a47cbb4f744d1b114b419095374ff": {
          "model_module": "@jupyter-widgets/base",
          "model_name": "LayoutModel",
          "model_module_version": "1.2.0",
          "state": {
            "_view_name": "LayoutView",
            "grid_template_rows": null,
            "right": null,
            "justify_content": null,
            "_view_module": "@jupyter-widgets/base",
            "overflow": null,
            "_model_module_version": "1.2.0",
            "_view_count": null,
            "flex_flow": null,
            "width": null,
            "min_width": null,
            "border": null,
            "align_items": null,
            "bottom": null,
            "_model_module": "@jupyter-widgets/base",
            "top": null,
            "grid_column": null,
            "overflow_y": null,
            "overflow_x": null,
            "grid_auto_flow": null,
            "grid_area": null,
            "grid_template_columns": null,
            "flex": null,
            "_model_name": "LayoutModel",
            "justify_items": null,
            "grid_row": null,
            "max_height": null,
            "align_content": null,
            "visibility": null,
            "align_self": null,
            "height": null,
            "min_height": null,
            "padding": null,
            "grid_auto_rows": null,
            "grid_gap": null,
            "max_width": null,
            "order": null,
            "_view_module_version": "1.2.0",
            "grid_template_areas": null,
            "object_position": null,
            "object_fit": null,
            "grid_auto_columns": null,
            "margin": null,
            "display": null,
            "left": null
          }
        },
        "736f7eb526a440558d9f37425af4703c": {
          "model_module": "@jupyter-widgets/controls",
          "model_name": "DescriptionStyleModel",
          "model_module_version": "1.5.0",
          "state": {
            "_view_name": "StyleView",
            "_model_name": "DescriptionStyleModel",
            "description_width": "",
            "_view_module": "@jupyter-widgets/base",
            "_model_module_version": "1.5.0",
            "_view_count": null,
            "_view_module_version": "1.2.0",
            "_model_module": "@jupyter-widgets/controls"
          }
        },
        "1782bca784004edcbc2064d80211e941": {
          "model_module": "@jupyter-widgets/base",
          "model_name": "LayoutModel",
          "model_module_version": "1.2.0",
          "state": {
            "_view_name": "LayoutView",
            "grid_template_rows": null,
            "right": null,
            "justify_content": null,
            "_view_module": "@jupyter-widgets/base",
            "overflow": null,
            "_model_module_version": "1.2.0",
            "_view_count": null,
            "flex_flow": null,
            "width": null,
            "min_width": null,
            "border": null,
            "align_items": null,
            "bottom": null,
            "_model_module": "@jupyter-widgets/base",
            "top": null,
            "grid_column": null,
            "overflow_y": null,
            "overflow_x": null,
            "grid_auto_flow": null,
            "grid_area": null,
            "grid_template_columns": null,
            "flex": null,
            "_model_name": "LayoutModel",
            "justify_items": null,
            "grid_row": null,
            "max_height": null,
            "align_content": null,
            "visibility": null,
            "align_self": null,
            "height": null,
            "min_height": null,
            "padding": null,
            "grid_auto_rows": null,
            "grid_gap": null,
            "max_width": null,
            "order": null,
            "_view_module_version": "1.2.0",
            "grid_template_areas": null,
            "object_position": null,
            "object_fit": null,
            "grid_auto_columns": null,
            "margin": null,
            "display": null,
            "left": null
          }
        },
        "548239cb316a43baa68fd200f23d468c": {
          "model_module": "@jupyter-widgets/controls",
          "model_name": "HBoxModel",
          "model_module_version": "1.5.0",
          "state": {
            "_view_name": "HBoxView",
            "_dom_classes": [],
            "_model_name": "HBoxModel",
            "_view_module": "@jupyter-widgets/controls",
            "_model_module_version": "1.5.0",
            "_view_count": null,
            "_view_module_version": "1.5.0",
            "box_style": "",
            "layout": "IPY_MODEL_0712538a616e4fa5af1f7b37412acf0d",
            "_model_module": "@jupyter-widgets/controls",
            "children": [
              "IPY_MODEL_007bc3951f824b0db685ba29feb73379",
              "IPY_MODEL_971af8044a7341a78d54c41862970614",
              "IPY_MODEL_a5f726fbfc294244a3d16a1380a9aa5e"
            ]
          }
        },
        "0712538a616e4fa5af1f7b37412acf0d": {
          "model_module": "@jupyter-widgets/base",
          "model_name": "LayoutModel",
          "model_module_version": "1.2.0",
          "state": {
            "_view_name": "LayoutView",
            "grid_template_rows": null,
            "right": null,
            "justify_content": null,
            "_view_module": "@jupyter-widgets/base",
            "overflow": null,
            "_model_module_version": "1.2.0",
            "_view_count": null,
            "flex_flow": null,
            "width": null,
            "min_width": null,
            "border": null,
            "align_items": null,
            "bottom": null,
            "_model_module": "@jupyter-widgets/base",
            "top": null,
            "grid_column": null,
            "overflow_y": null,
            "overflow_x": null,
            "grid_auto_flow": null,
            "grid_area": null,
            "grid_template_columns": null,
            "flex": null,
            "_model_name": "LayoutModel",
            "justify_items": null,
            "grid_row": null,
            "max_height": null,
            "align_content": null,
            "visibility": null,
            "align_self": null,
            "height": null,
            "min_height": null,
            "padding": null,
            "grid_auto_rows": null,
            "grid_gap": null,
            "max_width": null,
            "order": null,
            "_view_module_version": "1.2.0",
            "grid_template_areas": null,
            "object_position": null,
            "object_fit": null,
            "grid_auto_columns": null,
            "margin": null,
            "display": null,
            "left": null
          }
        },
        "007bc3951f824b0db685ba29feb73379": {
          "model_module": "@jupyter-widgets/controls",
          "model_name": "HTMLModel",
          "model_module_version": "1.5.0",
          "state": {
            "_view_name": "HTMLView",
            "style": "IPY_MODEL_878fe0e92c5d4c4a98970ed97811280e",
            "_dom_classes": [],
            "description": "",
            "_model_name": "HTMLModel",
            "placeholder": "​",
            "_view_module": "@jupyter-widgets/controls",
            "_model_module_version": "1.5.0",
            "value": "",
            "_view_count": null,
            "_view_module_version": "1.5.0",
            "description_tooltip": null,
            "_model_module": "@jupyter-widgets/controls",
            "layout": "IPY_MODEL_c71f77c3c8144ad38554bbc707552eef"
          }
        },
        "971af8044a7341a78d54c41862970614": {
          "model_module": "@jupyter-widgets/controls",
          "model_name": "FloatProgressModel",
          "model_module_version": "1.5.0",
          "state": {
            "_view_name": "ProgressView",
            "style": "IPY_MODEL_2ea610593a634a119c958c166fd393e9",
            "_dom_classes": [],
            "description": "",
            "_model_name": "FloatProgressModel",
            "bar_style": "success",
            "max": 2,
            "_view_module": "@jupyter-widgets/controls",
            "_model_module_version": "1.5.0",
            "value": 2,
            "_view_count": null,
            "_view_module_version": "1.5.0",
            "orientation": "horizontal",
            "min": 0,
            "description_tooltip": null,
            "_model_module": "@jupyter-widgets/controls",
            "layout": "IPY_MODEL_8b8496d84962429f9a40928f75d58c0f"
          }
        },
        "a5f726fbfc294244a3d16a1380a9aa5e": {
          "model_module": "@jupyter-widgets/controls",
          "model_name": "HTMLModel",
          "model_module_version": "1.5.0",
          "state": {
            "_view_name": "HTMLView",
            "style": "IPY_MODEL_75ef448ca4cc41a89a357c8cec28ac93",
            "_dom_classes": [],
            "description": "",
            "_model_name": "HTMLModel",
            "placeholder": "​",
            "_view_module": "@jupyter-widgets/controls",
            "_model_module_version": "1.5.0",
            "value": " 3/? [00:12&lt;00:00,  4.02s/B]",
            "_view_count": null,
            "_view_module_version": "1.5.0",
            "description_tooltip": null,
            "_model_module": "@jupyter-widgets/controls",
            "layout": "IPY_MODEL_4269883f3e3d433ea49851a029233910"
          }
        },
        "878fe0e92c5d4c4a98970ed97811280e": {
          "model_module": "@jupyter-widgets/controls",
          "model_name": "DescriptionStyleModel",
          "model_module_version": "1.5.0",
          "state": {
            "_view_name": "StyleView",
            "_model_name": "DescriptionStyleModel",
            "description_width": "",
            "_view_module": "@jupyter-widgets/base",
            "_model_module_version": "1.5.0",
            "_view_count": null,
            "_view_module_version": "1.2.0",
            "_model_module": "@jupyter-widgets/controls"
          }
        },
        "c71f77c3c8144ad38554bbc707552eef": {
          "model_module": "@jupyter-widgets/base",
          "model_name": "LayoutModel",
          "model_module_version": "1.2.0",
          "state": {
            "_view_name": "LayoutView",
            "grid_template_rows": null,
            "right": null,
            "justify_content": null,
            "_view_module": "@jupyter-widgets/base",
            "overflow": null,
            "_model_module_version": "1.2.0",
            "_view_count": null,
            "flex_flow": null,
            "width": null,
            "min_width": null,
            "border": null,
            "align_items": null,
            "bottom": null,
            "_model_module": "@jupyter-widgets/base",
            "top": null,
            "grid_column": null,
            "overflow_y": null,
            "overflow_x": null,
            "grid_auto_flow": null,
            "grid_area": null,
            "grid_template_columns": null,
            "flex": null,
            "_model_name": "LayoutModel",
            "justify_items": null,
            "grid_row": null,
            "max_height": null,
            "align_content": null,
            "visibility": null,
            "align_self": null,
            "height": null,
            "min_height": null,
            "padding": null,
            "grid_auto_rows": null,
            "grid_gap": null,
            "max_width": null,
            "order": null,
            "_view_module_version": "1.2.0",
            "grid_template_areas": null,
            "object_position": null,
            "object_fit": null,
            "grid_auto_columns": null,
            "margin": null,
            "display": null,
            "left": null
          }
        },
        "2ea610593a634a119c958c166fd393e9": {
          "model_module": "@jupyter-widgets/controls",
          "model_name": "ProgressStyleModel",
          "model_module_version": "1.5.0",
          "state": {
            "_view_name": "StyleView",
            "_model_name": "ProgressStyleModel",
            "description_width": "",
            "_view_module": "@jupyter-widgets/base",
            "_model_module_version": "1.5.0",
            "_view_count": null,
            "_view_module_version": "1.2.0",
            "bar_color": null,
            "_model_module": "@jupyter-widgets/controls"
          }
        },
        "8b8496d84962429f9a40928f75d58c0f": {
          "model_module": "@jupyter-widgets/base",
          "model_name": "LayoutModel",
          "model_module_version": "1.2.0",
          "state": {
            "_view_name": "LayoutView",
            "grid_template_rows": null,
            "right": null,
            "justify_content": null,
            "_view_module": "@jupyter-widgets/base",
            "overflow": null,
            "_model_module_version": "1.2.0",
            "_view_count": null,
            "flex_flow": null,
            "width": null,
            "min_width": null,
            "border": null,
            "align_items": null,
            "bottom": null,
            "_model_module": "@jupyter-widgets/base",
            "top": null,
            "grid_column": null,
            "overflow_y": null,
            "overflow_x": null,
            "grid_auto_flow": null,
            "grid_area": null,
            "grid_template_columns": null,
            "flex": null,
            "_model_name": "LayoutModel",
            "justify_items": null,
            "grid_row": null,
            "max_height": null,
            "align_content": null,
            "visibility": null,
            "align_self": null,
            "height": null,
            "min_height": null,
            "padding": null,
            "grid_auto_rows": null,
            "grid_gap": null,
            "max_width": null,
            "order": null,
            "_view_module_version": "1.2.0",
            "grid_template_areas": null,
            "object_position": null,
            "object_fit": null,
            "grid_auto_columns": null,
            "margin": null,
            "display": null,
            "left": null
          }
        },
        "75ef448ca4cc41a89a357c8cec28ac93": {
          "model_module": "@jupyter-widgets/controls",
          "model_name": "DescriptionStyleModel",
          "model_module_version": "1.5.0",
          "state": {
            "_view_name": "StyleView",
            "_model_name": "DescriptionStyleModel",
            "description_width": "",
            "_view_module": "@jupyter-widgets/base",
            "_model_module_version": "1.5.0",
            "_view_count": null,
            "_view_module_version": "1.2.0",
            "_model_module": "@jupyter-widgets/controls"
          }
        },
        "4269883f3e3d433ea49851a029233910": {
          "model_module": "@jupyter-widgets/base",
          "model_name": "LayoutModel",
          "model_module_version": "1.2.0",
          "state": {
            "_view_name": "LayoutView",
            "grid_template_rows": null,
            "right": null,
            "justify_content": null,
            "_view_module": "@jupyter-widgets/base",
            "overflow": null,
            "_model_module_version": "1.2.0",
            "_view_count": null,
            "flex_flow": null,
            "width": null,
            "min_width": null,
            "border": null,
            "align_items": null,
            "bottom": null,
            "_model_module": "@jupyter-widgets/base",
            "top": null,
            "grid_column": null,
            "overflow_y": null,
            "overflow_x": null,
            "grid_auto_flow": null,
            "grid_area": null,
            "grid_template_columns": null,
            "flex": null,
            "_model_name": "LayoutModel",
            "justify_items": null,
            "grid_row": null,
            "max_height": null,
            "align_content": null,
            "visibility": null,
            "align_self": null,
            "height": null,
            "min_height": null,
            "padding": null,
            "grid_auto_rows": null,
            "grid_gap": null,
            "max_width": null,
            "order": null,
            "_view_module_version": "1.2.0",
            "grid_template_areas": null,
            "object_position": null,
            "object_fit": null,
            "grid_auto_columns": null,
            "margin": null,
            "display": null,
            "left": null
          }
        }
      }
    }
  },
  "cells": [
    {
      "cell_type": "markdown",
      "metadata": {
        "id": "view-in-github",
        "colab_type": "text"
      },
      "source": [
        "<a href=\"https://colab.research.google.com/github/rpadmanabhan/probability-I-proj/blob/main/DPPM_clustering_turn_in.ipynb\" target=\"_parent\"><img src=\"https://colab.research.google.com/assets/colab-badge.svg\" alt=\"Open In Colab\"/></a>"
      ]
    },
    {
      "cell_type": "code",
      "metadata": {
        "id": "N2WNfHT7zMdG",
        "colab": {
          "base_uri": "https://localhost:8080/"
        },
        "outputId": "472bcc04-9be0-4378-9c4e-e08da639d3f6"
      },
      "source": [
        "# Module Installations\n",
        "!pip install --quiet pyro-ppl\n",
        "!pip install --quiet h5py\n",
        "!pip install --quiet anndata\n",
        "!pip install --quiet scanpy\n",
        "!pip install --quiet wandb\n",
        "!pip install --quiet rpy2\n",
        "!pip install --quiet python-igraph\n",
        "!pip install --quiet louvain"
      ],
      "execution_count": 1,
      "outputs": [
        {
          "output_type": "stream",
          "name": "stdout",
          "text": [
            "\u001b[K     |████████████████████████████████| 678 kB 10.0 MB/s \n",
            "\u001b[K     |████████████████████████████████| 91 kB 5.4 MB/s \n",
            "\u001b[K     |████████████████████████████████| 2.0 MB 9.7 MB/s \n",
            "\u001b[K     |████████████████████████████████| 86 kB 6.0 MB/s \n",
            "\u001b[K     |████████████████████████████████| 1.1 MB 50.9 MB/s \n",
            "\u001b[K     |████████████████████████████████| 63 kB 2.9 MB/s \n",
            "\u001b[?25h  Building wheel for umap-learn (setup.py) ... \u001b[?25l\u001b[?25hdone\n",
            "  Building wheel for pynndescent (setup.py) ... \u001b[?25l\u001b[?25hdone\n",
            "  Building wheel for sinfo (setup.py) ... \u001b[?25l\u001b[?25hdone\n",
            "\u001b[K     |████████████████████████████████| 1.7 MB 8.0 MB/s \n",
            "\u001b[K     |████████████████████████████████| 140 kB 71.1 MB/s \n",
            "\u001b[K     |████████████████████████████████| 180 kB 70.4 MB/s \n",
            "\u001b[K     |████████████████████████████████| 97 kB 9.0 MB/s \n",
            "\u001b[K     |████████████████████████████████| 63 kB 2.2 MB/s \n",
            "\u001b[?25h  Building wheel for subprocess32 (setup.py) ... \u001b[?25l\u001b[?25hdone\n",
            "  Building wheel for pathtools (setup.py) ... \u001b[?25l\u001b[?25hdone\n",
            "\u001b[K     |████████████████████████████████| 3.2 MB 10.4 MB/s \n",
            "\u001b[?25h  Building wheel for python-igraph (setup.py) ... \u001b[?25l\u001b[?25hdone\n",
            "\u001b[K     |████████████████████████████████| 2.1 MB 7.9 MB/s \n",
            "\u001b[?25h"
          ]
        }
      ]
    },
    {
      "cell_type": "code",
      "metadata": {
        "id": "J6OOYr3U41gJ"
      },
      "source": [
        "# Module Imports\n",
        "import collections\n",
        "import functools\n",
        "from pprint import pprint\n",
        "\n",
        "import matplotlib.pyplot as plt\n",
        "import scipy as sp\n",
        "import numpy as np\n",
        "import pandas as pd\n",
        "from tqdm import tqdm\n",
        "\n",
        "\n",
        "import seaborn as sns\n",
        "import torch\n",
        "import torch.nn.functional as F\n",
        "from torch.distributions import constraints\n",
        "\n",
        "import pyro\n",
        "from pyro.distributions import *\n",
        "from pyro.infer import Predictive, SVI, Trace_ELBO\n",
        "from pyro.optim import Adam\n",
        "\n",
        "import anndata\n",
        "import h5py\n",
        "import scanpy\n",
        "import wandb\n",
        "\n",
        "assert pyro.__version__.startswith('1.7.0')\n",
        "pyro.set_rng_seed(0)\n",
        "\n",
        "\n"
      ],
      "execution_count": 2,
      "outputs": []
    },
    {
      "cell_type": "code",
      "metadata": {
        "id": "aWIaRF3PbJUa"
      },
      "source": [
        "# Globally set tensors on GPU - Change accordingly\n",
        "torch.set_default_tensor_type(\"torch.cuda.DoubleTensor\")\n"
      ],
      "execution_count": 3,
      "outputs": []
    },
    {
      "cell_type": "markdown",
      "metadata": {
        "id": "B6j6pw_-ZSJT"
      },
      "source": [
        "# Data download"
      ]
    },
    {
      "cell_type": "code",
      "metadata": {
        "id": "gu3fXvf6OTmb"
      },
      "source": [
        "import requests\n",
        "from tqdm import tnrange, tqdm_notebook\n",
        "def download_file(doi,ext):\n",
        "    url = 'https://api.datacite.org/dois/'+doi+'/media'\n",
        "    r = requests.get(url).json()\n",
        "    netcdf_url = r['data'][0]['attributes']['url']\n",
        "    r = requests.get(netcdf_url,stream=True)\n",
        "    #Set file name\n",
        "    fname = doi.split('/')[-1]+ext\n",
        "    #Download file with progress bar\n",
        "    if r.status_code == 403:\n",
        "        print(\"File Unavailable\")\n",
        "    if 'content-length' not in r.headers:\n",
        "        print(\"Did not get file\")\n",
        "    else:\n",
        "        with open(fname, 'wb') as f:\n",
        "            total_length = int(r.headers.get('content-length'))\n",
        "            pbar = tnrange(int(total_length/1024), unit=\"B\")\n",
        "            for chunk in r.iter_content(chunk_size=1024):\n",
        "                if chunk:\n",
        "                    pbar.update()\n",
        "                    f.write(chunk)\n",
        "        return fname\n",
        "\n",
        "#Starvation h5ad data, all nonzero genes included, filtered for 'real cells' from de-multiplexing\n",
        "download_file('10.22002/D1.1797','.gz')\n",
        "#CellRanger Starvation h5ad data\n",
        "download_file('10.22002/D1.1798','.gz')\n",
        "#Kallisto bus clustered starvation data, h5ad\n",
        "download_file('10.22002/D1.1796','.gz')\n",
        "#Human ortholog annotations\n",
        "download_file('10.22002/D1.1819','.gz')\n",
        "#Panther annotations\n",
        "download_file('10.22002/D1.1820','.gz')\n",
        "#GO Terms\n",
        "download_file('10.22002/D1.1822','.gz')\n",
        "#Saved DeSeq2 Results for Fed/Starved (Differentially expressed under starvation --> perturbed genes)\n",
        "download_file('10.22002/D1.1810','.gz')\n",
        "#Saved gene modules adata\n",
        "download_file('10.22002/D1.1813','.gz')\n",
        "#Gene Markers to plot (for cell atlas) --> Fig 2 heatmap\n",
        "download_file('10.22002/D1.1809','.gz')\n",
        "\n",
        "!gunzip *.gz"
      ],
      "execution_count": null,
      "outputs": []
    },
    {
      "cell_type": "code",
      "metadata": {
        "colab": {
          "base_uri": "https://localhost:8080/",
          "height": 322,
          "referenced_widgets": [
            "f311eacfb4f2436cbfecd7df4dc82283",
            "2253a4d286514dd4ba98962405cbd1a7",
            "30bacaab3c3f45c184be642744174c5d",
            "3c21691f43a842e6a1f8df32f8839996",
            "e748f79a006541e4a19d96bc1f428972",
            "02d98e47bab54a0587eec0d84599cc17",
            "4a344a2f576d4ebeae0a73421c9b2040",
            "8a556df8dc7c47bdbea20bfaa78eff0d",
            "7334de97ff4049a4b96de3ab8ae918cc",
            "6db0b8f48d22413ab199da0a3b41bec7",
            "841d4b3e6809405aacbdb01ca9af0d5a",
            "4263f743c1a94a7ea18c3eebc2d0ec06",
            "381d4229bef747aa8c84fb2da4a4e6b6",
            "31a6e34392ca4e2ead2355aefccf1780",
            "a59f2e5c7b564705bf17ab83c71ced60",
            "97447342ad0348449ceb53bea8d91e8c",
            "95ddbb04c0f34f29bc6fe9556935ad0f",
            "278d5a7a1e424887aa40ea63842158bc",
            "0aa69f5b6d5d4f3f8c4cd0190795538c",
            "4b5afe8a5e6b49bebbce28266946e068",
            "9552d80e890e403cab5e0c416ba49dd2",
            "95072dcbe863464aa1714838a99c5546",
            "06ff9007e75e428c9b871b8222daa5a9",
            "d76524a483084c4682cb664f567ea902",
            "85f8966479914073a81aaca22a957a05",
            "80cc676d383c40ca858b2f4e16a16626",
            "09509ea100874b50a599fad024ea8efb",
            "876c605f8384432c9035eb8b203823fe",
            "7591de3c46f0408498063cd49a284038",
            "2e9a747ec7d64092af2aa4b02b3e6ea9",
            "ab7a2d9a7af64c93903abe56718f2197",
            "833f9bbbb99b42c7b593ca9159990d78",
            "4706395484464d7a992409197eecd1c7",
            "5b2af76ed0d9441eaf25c88efe777d52",
            "da170e093df94c5ab2eea430b13330ec",
            "09a0b5598a2f4c26bb410bad0d194d13",
            "4ee74164895940dab5c56eb3a09432ae",
            "eafc57092d3c4fb09bdd2a0495407667",
            "b3350089d0b94565aa100cfeabc719a2",
            "8166ddd4450244b3808f0932fb648bc0",
            "5be06902840f43cf9837b5b6d643fa07",
            "1243e42b830845bc8b91440eb49b732c",
            "8396114835774ffc9cb1692ac4fd6ee2",
            "925522c7c9b14b11b6a2735543e4f1f7",
            "b69b6bd9308444c0901e925892f11cc6",
            "7090dd706a1e44d181148282dea14bb8",
            "3175e9e93da2448295f50c97ae09688a",
            "82583a6db4664d6ca7658392201bb274",
            "9ec3d670858248b386cd12c4c32e483c",
            "f7d468fbe9494dceb9053c5d3e748593",
            "bdcd390bd46343779693b81421f3ac21",
            "f4d67c9307f14e1da141db5fc84ef6bc",
            "f079631e139d4b29ab1c06e22ddf1929",
            "20dbbc0669ba4a91a5c179b95b0ff401",
            "ac8280f00f3c4cb5b493ae0ff366447e",
            "5dfc682a641f4196a88d0ed793905c27",
            "8ab41af5cf9441e8a7c22df5c4f10491",
            "564dc1d4070447b3ac2722de04790507",
            "deb94e7be93447aeb262deb228cc483c",
            "3e67982eca704420a8341d5475e4be11",
            "4d3002ac21414dda860a07054dbc3a89",
            "6dbab75d407a487d881df92bc316cb8a",
            "026e66466ab746a784c394646bd13fb0",
            "86aa36ae9bfc4e9e9a7fcee883635c9a",
            "cf8012bb78404b949b972572d4c6910c",
            "06b6987d63044b0a96d849ffa3e2053f",
            "12f0a519d33a4e15a31d815b51090d73",
            "0c576aff842b4e5f99375edf60d1be2e",
            "9af19b4e090e434a98f2b89ea9da3ba7",
            "3ce6182b635145c78a94e1059dd14ac9",
            "64e3fb2dd7bb493b84742df571909419",
            "d8aab4008f7e41a5b2398890b448c0dc",
            "7ef709d54f5a4ee8b126fe6621218e15",
            "73a6b00ddb6a45e981e5f2a4667714c5",
            "3eec9e9d3d24452391670c88a193322a",
            "f854652205d34671812b27da16c88ebf",
            "b36dccb1a80143e0be71356a90f2870c",
            "78b3e1ff79e64560a87bc6d2752a4b9f",
            "8758c95fb796451ba77a142b15a87832",
            "040af87798264ce9aaa2e95f3e003ce6",
            "f1e924ce5dec44c99000af142f7eaf6f",
            "d51de76c6f48497eae62fd709a2233e6",
            "7e6da5ec38c7462d8db107645394b773",
            "f72fa94e86574d0d95cff650a98d42d3",
            "9e977a11058940fda9a327193e4dfdf1",
            "534a47cbb4f744d1b114b419095374ff",
            "736f7eb526a440558d9f37425af4703c",
            "1782bca784004edcbc2064d80211e941",
            "548239cb316a43baa68fd200f23d468c",
            "0712538a616e4fa5af1f7b37412acf0d",
            "007bc3951f824b0db685ba29feb73379",
            "971af8044a7341a78d54c41862970614",
            "a5f726fbfc294244a3d16a1380a9aa5e",
            "878fe0e92c5d4c4a98970ed97811280e",
            "c71f77c3c8144ad38554bbc707552eef",
            "2ea610593a634a119c958c166fd393e9",
            "8b8496d84962429f9a40928f75d58c0f",
            "75ef448ca4cc41a89a357c8cec28ac93",
            "4269883f3e3d433ea49851a029233910"
          ]
        },
        "id": "wJfl3pWPOVn7",
        "outputId": "5c019bf2-80b9-4685-ab37-75d24422297b"
      },
      "source": [
        "\n"
      ],
      "execution_count": null,
      "outputs": [
        {
          "output_type": "stream",
          "name": "stderr",
          "text": [
            "/usr/local/lib/python3.7/dist-packages/ipykernel_launcher.py:18: TqdmDeprecationWarning: Please use `tqdm.notebook.trange` instead of `tqdm.tnrange`\n"
          ]
        },
        {
          "output_type": "display_data",
          "data": {
            "application/vnd.jupyter.widget-view+json": {
              "model_id": "f311eacfb4f2436cbfecd7df4dc82283",
              "version_minor": 0,
              "version_major": 2
            },
            "text/plain": [
              "  0%|          | 0/26058 [00:00<?, ?B/s]"
            ]
          },
          "metadata": {}
        },
        {
          "output_type": "display_data",
          "data": {
            "application/vnd.jupyter.widget-view+json": {
              "model_id": "4263f743c1a94a7ea18c3eebc2d0ec06",
              "version_minor": 0,
              "version_major": 2
            },
            "text/plain": [
              "  0%|          | 0/45376 [00:00<?, ?B/s]"
            ]
          },
          "metadata": {}
        },
        {
          "output_type": "display_data",
          "data": {
            "application/vnd.jupyter.widget-view+json": {
              "model_id": "06ff9007e75e428c9b871b8222daa5a9",
              "version_minor": 0,
              "version_major": 2
            },
            "text/plain": [
              "  0%|          | 0/479630 [00:00<?, ?B/s]"
            ]
          },
          "metadata": {}
        },
        {
          "output_type": "display_data",
          "data": {
            "application/vnd.jupyter.widget-view+json": {
              "model_id": "5b2af76ed0d9441eaf25c88efe777d52",
              "version_minor": 0,
              "version_major": 2
            },
            "text/plain": [
              "  0%|          | 0/528 [00:00<?, ?B/s]"
            ]
          },
          "metadata": {}
        },
        {
          "output_type": "display_data",
          "data": {
            "application/vnd.jupyter.widget-view+json": {
              "model_id": "b69b6bd9308444c0901e925892f11cc6",
              "version_minor": 0,
              "version_major": 2
            },
            "text/plain": [
              "  0%|          | 0/515 [00:00<?, ?B/s]"
            ]
          },
          "metadata": {}
        },
        {
          "output_type": "display_data",
          "data": {
            "application/vnd.jupyter.widget-view+json": {
              "model_id": "5dfc682a641f4196a88d0ed793905c27",
              "version_minor": 0,
              "version_major": 2
            },
            "text/plain": [
              "  0%|          | 0/227 [00:00<?, ?B/s]"
            ]
          },
          "metadata": {}
        },
        {
          "output_type": "display_data",
          "data": {
            "application/vnd.jupyter.widget-view+json": {
              "model_id": "12f0a519d33a4e15a31d815b51090d73",
              "version_minor": 0,
              "version_major": 2
            },
            "text/plain": [
              "  0%|          | 0/224 [00:00<?, ?B/s]"
            ]
          },
          "metadata": {}
        },
        {
          "output_type": "display_data",
          "data": {
            "application/vnd.jupyter.widget-view+json": {
              "model_id": "78b3e1ff79e64560a87bc6d2752a4b9f",
              "version_minor": 0,
              "version_major": 2
            },
            "text/plain": [
              "  0%|          | 0/59338 [00:00<?, ?B/s]"
            ]
          },
          "metadata": {}
        },
        {
          "output_type": "display_data",
          "data": {
            "application/vnd.jupyter.widget-view+json": {
              "model_id": "548239cb316a43baa68fd200f23d468c",
              "version_minor": 0,
              "version_major": 2
            },
            "text/plain": [
              "  0%|          | 0/2 [00:00<?, ?B/s]"
            ]
          },
          "metadata": {}
        }
      ]
    },
    {
      "cell_type": "code",
      "metadata": {
        "colab": {
          "base_uri": "https://localhost:8080/"
        },
        "id": "995kDCQaZOME",
        "outputId": "b2f47594-8e2a-4d4c-c164-dd4013a343a0"
      },
      "source": [
        "from google.colab import drive\n",
        "drive.mount('/content/drive')"
      ],
      "execution_count": 4,
      "outputs": [
        {
          "output_type": "stream",
          "name": "stdout",
          "text": [
            "Mounted at /content/drive\n"
          ]
        }
      ]
    },
    {
      "cell_type": "code",
      "metadata": {
        "id": "8GDcEGhwZhXn"
      },
      "source": [
        "!cp /content/drive/MyDrive/filtered_Xiuli_An_2014.txt ./sample_data/"
      ],
      "execution_count": 5,
      "outputs": []
    },
    {
      "cell_type": "markdown",
      "metadata": {
        "id": "2FfzF_GlZoX8"
      },
      "source": [
        "# Dirchlet Process Poisson-lognormal Mixture model and SVI for param estimation"
      ]
    },
    {
      "cell_type": "code",
      "metadata": {
        "id": "8Bgx6x149ody"
      },
      "source": [
        "class DPPLMClust:\n",
        "  ''' Dirchlet Process LogNormal-Poissson Mixture Model Clustering\n",
        "  '''\n",
        "  def __init__(self, *args, **kwargs):\n",
        "      '''\n",
        "      '''\n",
        "      # mandatory\n",
        "      self.data = kwargs[\"data\"]\n",
        "      self.num_clusters = kwargs[\"num_clusters\"]\n",
        "      self.alpha = kwargs[\"alpha\"]\n",
        "\n",
        "      # optionals\n",
        "      self.optim = kwargs.get(\"optim\", Adam({\"lr\": 0.05}))\n",
        "      self.niter = kwargs.get(\"niter\", 1500)\n",
        "      self.loss = kwargs.get(\"loss\", Trace_ELBO())\n",
        "\n",
        "      # others vars used in this class\n",
        "      self.losses = []\n",
        "      self.svi  = None\n",
        "\n",
        "\n",
        "  # Define the \"stick-breaking\" function that generates our weights, given our samples of Beta\n",
        "  def mix_weights(self, beta):\n",
        "      beta1m_cumprod = (1 - beta).cumprod(-1)\n",
        "      return F.pad(beta, (0, 1), value=1) * F.pad(beta1m_cumprod, (1, 0), value=1)\n",
        "\n",
        "  def model(self, data):\n",
        "      with pyro.plate(\"beta_plate\", self.num_clusters - 1):\n",
        "          beta = pyro.sample(\"beta\", Beta(1, self.alpha))\n",
        "\n",
        "      with pyro.plate(\"lambda_plate\", self.num_clusters):\n",
        "          lmbda = pyro.sample(\"lambda\", MultivariateNormal(\n",
        "              loc = torch.zeros(data.shape[1]), scale_tril = torch.eye(data.shape[1])))\n",
        "          #lmbda = pyro.sample(\"lambda\", MultivariateNormal(loc = torch.zeros(data.shape[1]), covariance_matrix = torch.eye(data.shape[1])))\n",
        "      with pyro.plate(\"data\", data.shape[0]):\n",
        "          z = pyro.sample(\"z\", Categorical(self.mix_weights(beta)))\n",
        "          pyro.sample(\"obs\", Poisson(torch.exp(lmbda[z])).to_event(1), obs = data)\n",
        "\n",
        "  def guide(self, data):\n",
        "      # Define priors to sample from\n",
        "      kappa = pyro.param('kappa', lambda: Uniform(0, 2).sample(\n",
        "          [self.num_clusters - 1]), constraint=constraints.positive)\n",
        "      mu = pyro.param('mu', lambda: MultivariateNormal(\n",
        "          loc = torch.ones(data.shape[1]),\n",
        "          covariance_matrix = torch.eye(data.shape[1])).sample([self.num_clusters]))\n",
        "      # Vector of variances for each of the d variables\n",
        "      theta = pyro.param('theta', lambda: HalfCauchy(torch.ones(data.shape[1])).sample(\n",
        "          [self.num_clusters]))\n",
        "      # Lower cholesky factor of a correlation matrix\n",
        "      #concentration = torch.ones(())  # Implies a uniform distribution over correlation matrices\n",
        "      L_omega = pyro.param(\"L_omega\", lambda: LKJCholesky(data.shape[1], torch.ones(())).sample([self.num_clusters]), constraint=constraints.lower_cholesky)\n",
        "      # Lower cholesky factor of the covariance matrix\n",
        "      L_Omega = pyro.param(\"L_Omega\", lambda: torch.bmm(theta.sqrt().diag_embed(), L_omega), constraint=constraints.lower_cholesky)\n",
        "\n",
        "      phi = pyro.param('phi', lambda: Dirichlet(\n",
        "          1/self.num_clusters * torch.ones(self.num_clusters)).sample(\n",
        "              [data.shape[0]]), constraint=constraints.simplex)\n",
        "\n",
        "      # Define parameters in the model\n",
        "      with pyro.plate(\"beta_plate\", self.num_clusters - 1):\n",
        "          q_beta = pyro.sample(\"beta\", Beta(torch.ones(self.num_clusters - 1), kappa))\n",
        "\n",
        "      with pyro.plate(\"lambda_plate\", self.num_clusters):\n",
        "          q_lambda = pyro.sample(\"lambda\", MultivariateNormal(loc = mu, scale_tril = L_Omega))\n",
        "\n",
        "      with pyro.plate(\"data\", data.shape[0]):\n",
        "          z = pyro.sample(\"z\", Categorical(phi))\n",
        "\n",
        "\n",
        "  def train_batch(self, loader):\n",
        "      pyro.clear_param_store()\n",
        "      for j in tqdm(range(self.niter)):\n",
        "          for bx in loader:\n",
        "              loss = self.svi.step(bx[0].cuda())\n",
        "              self.losses.append(loss)\n",
        "\n",
        "  def train(self):\n",
        "      pyro.clear_param_store()\n",
        "      for j in tqdm(range(self.niter)):\n",
        "          loss = self.svi.step(self.data)\n",
        "          self.losses.append(loss)\n",
        "\n",
        "  def truncate(self, centers, weights):\n",
        "      threshold = self.alpha**-1 / 100.\n",
        "      true_centers = centers[weights > threshold]\n",
        "      true_weights = weights[weights > threshold] / torch.sum(weights[weights > threshold])\n",
        "      return true_centers, true_weights\n",
        "\n",
        "  def var_inference(self):\n",
        "      self.svi = SVI(self.model, self.guide, self.optim, loss = self.loss)\n",
        "      self.train()\n",
        "\n",
        "  def loss_viz(self):\n",
        "      elbo_plot = plt.figure(figsize=(15, 5))\n",
        "      elbo_ax = elbo_plot.add_subplot(1, 2, 1)\n",
        "      elbo_ax.set_title(\"ELBO Value vs. Iteration Number for Pyro BBVI\")\n",
        "      elbo_ax.set_ylabel(\"ELBO\")\n",
        "      elbo_ax.set_xlabel(\"Iteration Number\")\n",
        "      elbo_ax.plot(np.arange(self.niter), self.losses)\n",
        "\n",
        "      autocorr_ax = elbo_plot.add_subplot(1, 2, 2)\n",
        "      autocorr_ax.acorr(np.asarray(self.losses), detrend=lambda x: x - x.mean(), maxlags=750, usevlines=False, marker=',')\n",
        "      autocorr_ax.set_xlim(0, 500)\n",
        "      autocorr_ax.axhline(0, ls=\"--\", c=\"k\", lw=1)\n",
        "      autocorr_ax.set_title(\"Autocorrelation of ELBO vs. Lag for Pyro BBVI\")\n",
        "      autocorr_ax.set_xlabel(\"Lag\")\n",
        "      autocorr_ax.set_ylabel(\"Autocorrelation\")\n",
        "      elbo_plot.tight_layout()\n",
        "      plt.show()\n",
        "\n",
        "  def cluster_2d_viz(self):\n",
        "      # We make a point-estimate of our model parameters using the posterior means of mu and phi for the centers and weights\n",
        "      Bayes_Centers_01, Bayes_Weights_01 = self.truncate(\n",
        "          torch.exp(pyro.param(\"mu\")).detach(),\n",
        "          torch.mean(pyro.param(\"phi\").detach(), dim=0))\n",
        "      plt.figure(figsize=(15, 5))\n",
        "      plt.subplot(1, 2, 1)\n",
        "      plt.scatter(self.data[:, 0].cpu(), self.data[:, 1].cpu(), color=\"blue\")\n",
        "      plt.scatter(Bayes_Centers_01[:, 0].cpu(), Bayes_Centers_01[:, 1].cpu(), color=\"red\")\n",
        "      plt.legend([\"Simulated Data\", \"Cluster Centers Identified\"])\n",
        "      plt.title(\"Clustering using DPMM on simulated data.\")"
      ],
      "execution_count": 8,
      "outputs": []
    },
    {
      "cell_type": "markdown",
      "metadata": {
        "id": "B12HxkGQaNJ4"
      },
      "source": [
        "# Simulation Data"
      ]
    },
    {
      "cell_type": "code",
      "metadata": {
        "colab": {
          "base_uri": "https://localhost:8080/",
          "height": 281
        },
        "id": "pr8c_Hvp44Iv",
        "outputId": "c7595f99-b5ac-43e9-dda7-73d5c3514bc2"
      },
      "source": [
        "# Simulation data - Multivariate PoissonLogNormal of dimension 2 with 3 clusters\n",
        "theta1 = MultivariateNormal(loc = 3 * torch.ones(2), covariance_matrix = torch.eye(2)).sample([1])\n",
        "theta2 = MultivariateNormal(loc = torch.zeros(2), covariance_matrix = torch.eye(2)).sample([1])\n",
        "theta3 = MultivariateNormal(loc = 4 * torch.ones(2), covariance_matrix = torch.eye(2)).sample([1])\n",
        "test_data = torch.cat(\n",
        "    (Poisson(torch.exp(theta1)).to_event(1).sample([20]),\n",
        "     Poisson(torch.exp(theta2)).to_event(1).sample([20]),\n",
        "     Poisson(torch.exp(theta3)).to_event(1).sample([20])), axis = 0\n",
        ")\n",
        "\n",
        "test_data = test_data.reshape(60, 2)\n",
        "plt.scatter(test_data[:, 0].cpu(), test_data[:, 1].cpu())\n",
        "#plt.scatter(test_data|[:, 0], test_data[:, 1])\n",
        "plt.title(\"Data samples from mixture of 3 Poissons\")\n",
        "plt.show()"
      ],
      "execution_count": 9,
      "outputs": [
        {
          "output_type": "display_data",
          "data": {
            "image/png": "[encoded data removed]",
            "text/plain": [
              "<Figure size 432x288 with 1 Axes>"
            ]
          },
          "metadata": {
            "needs_background": "light"
          }
        }
      ]
    },
    {
      "cell_type": "markdown",
      "metadata": {
        "id": "TjLPJoVybMh8"
      },
      "source": [
        "## Choose number of clusters = 3"
      ]
    },
    {
      "cell_type": "code",
      "metadata": {
        "colab": {
          "base_uri": "https://localhost:8080/",
          "height": 705
        },
        "id": "ST0RCFOoTBLi",
        "outputId": "0f79abe1-ea93-479d-8f24-4baf553e908c"
      },
      "source": [
        "# Try on test data\n",
        "alpha = 10.0\n",
        "dpplm_clust = DPPLMClust(data = test_data, num_clusters = 3, alpha = alpha, niter = 5000)  \n",
        "dpplm_clust.var_inference()\n",
        "# Visualize\n",
        "dpplm_clust.loss_viz()\n",
        "dpplm_clust.cluster_2d_viz()"
      ],
      "execution_count": 10,
      "outputs": [
        {
          "output_type": "stream",
          "name": "stderr",
          "text": [
            "100%|██████████| 5000/5000 [01:05<00:00, 76.56it/s]\n"
          ]
        },
        {
          "output_type": "display_data",
          "data": {
            "image/png": "[encoded data removed]",
            "text/plain": [
              "<Figure size 1080x360 with 2 Axes>"
            ]
          },
          "metadata": {
            "needs_background": "light"
          }
        },
        {
          "output_type": "display_data",
          "data": {
            "image/png": "[encoded data removed]",
            "text/plain": [
              "<Figure size 1080x360 with 1 Axes>"
            ]
          },
          "metadata": {
            "needs_background": "light"
          }
        }
      ]
    },
    {
      "cell_type": "code",
      "metadata": {
        "colab": {
          "base_uri": "https://localhost:8080/",
          "height": 638
        },
        "id": "VC7Lh69aawuh",
        "outputId": "adc54722-f4a5-4252-823a-52e50b9e3125"
      },
      "source": [
        "# Cluster memberships\n",
        "probs = pyro.param(\"phi\").detach().cpu().numpy()\n",
        "fig, axs = plt.subplots(figsize = (10, 10))\n",
        "sns.heatmap(probs)\n",
        "axs.set_xlabel(\"Clusters\")\n",
        "axs.set_ylabel(\"Observations\")\n",
        "axs.set_title(\"Heatmap - Cluster Membership Probabilities\")"
      ],
      "execution_count": 12,
      "outputs": [
        {
          "output_type": "execute_result",
          "data": {
            "text/plain": [
              "Text(0.5, 1.0, 'Heatmap - Cluster Membership Probabilities')"
            ]
          },
          "metadata": {},
          "execution_count": 12
        },
        {
          "output_type": "display_data",
          "data": {
            "image/png": "[encoded data removed]",
            "text/plain": [
              "<Figure size 720x720 with 2 Axes>"
            ]
          },
          "metadata": {
            "needs_background": "light"
          }
        }
      ]
    },
    {
      "cell_type": "code",
      "metadata": {
        "colab": {
          "base_uri": "https://localhost:8080/",
          "height": 638
        },
        "id": "mDRb77sra48m",
        "outputId": "f3244555-ea44-4c26-fb09-8e9a34d97bec"
      },
      "source": [
        "# 2 observations are in the same cluster - visualize clustering of observations\n",
        "pairwise = probs @ probs.T\n",
        "fig, axs = plt.subplots(figsize = (10, 10))\n",
        "sns.heatmap(pairwise)\n",
        "axs.set_xlabel(\"Observations\")\n",
        "axs.set_ylabel(\"Observations\")\n",
        "axs.set_title(\"Heatmap - Probability that 2 observations are in the same cluster\")"
      ],
      "execution_count": 14,
      "outputs": [
        {
          "output_type": "execute_result",
          "data": {
            "text/plain": [
              "Text(0.5, 1.0, 'Heatmap - Probability that 2 observations are in the same cluster')"
            ]
          },
          "metadata": {},
          "execution_count": 14
        },
        {
          "output_type": "display_data",
          "data": {
            "image/png": "[encoded data removed]",
            "text/plain": [
              "<Figure size 720x720 with 2 Axes>"
            ]
          },
          "metadata": {
            "needs_background": "light"
          }
        }
      ]
    },
    {
      "cell_type": "markdown",
      "metadata": {
        "id": "P3P-TVmgbIsg"
      },
      "source": [
        "## Choose number of clusters = 10"
      ]
    },
    {
      "cell_type": "code",
      "metadata": {
        "colab": {
          "base_uri": "https://localhost:8080/",
          "height": 705
        },
        "id": "SwcoWZOWbXwl",
        "outputId": "327dafc9-d9e0-465a-b2d5-4e2c191d9044"
      },
      "source": [
        "# Try on test data\n",
        "alpha = 10.0\n",
        "dpplm_clust = DPPLMClust(data = test_data, num_clusters = 10, alpha = alpha, niter = 5000)  \n",
        "dpplm_clust.var_inference()\n",
        "# Visualize\n",
        "dpplm_clust.loss_viz()\n",
        "dpplm_clust.cluster_2d_viz()"
      ],
      "execution_count": 15,
      "outputs": [
        {
          "output_type": "stream",
          "name": "stderr",
          "text": [
            "100%|██████████| 5000/5000 [01:04<00:00, 77.18it/s]\n"
          ]
        },
        {
          "output_type": "display_data",
          "data": {
            "image/png": "[encoded data removed]",
            "text/plain": [
              "<Figure size 1080x360 with 2 Axes>"
            ]
          },
          "metadata": {
            "needs_background": "light"
          }
        },
        {
          "output_type": "display_data",
          "data": {
            "image/png": "[encoded data removed]",
            "text/plain": [
              "<Figure size 1080x360 with 1 Axes>"
            ]
          },
          "metadata": {
            "needs_background": "light"
          }
        }
      ]
    },
    {
      "cell_type": "code",
      "metadata": {
        "colab": {
          "base_uri": "https://localhost:8080/",
          "height": 910
        },
        "id": "yDUIKkr_HBTa",
        "outputId": "b10ab77e-c7c2-4a91-adcf-a6f8478a96d3"
      },
      "source": [
        "# Cluster memberships\n",
        "probs = pyro.param(\"phi\").detach().cpu().numpy()\n",
        "fig, axs = plt.subplots(figsize = (15, 15))\n",
        "sns.heatmap(probs)\n",
        "axs.set_xlabel(\"Clusters\")\n",
        "axs.set_ylabel(\"Observations\")\n",
        "axs.set_title(\"Heatmap - Cluster Membership Probabilities\")"
      ],
      "execution_count": 16,
      "outputs": [
        {
          "output_type": "execute_result",
          "data": {
            "text/plain": [
              "Text(0.5, 1.0, 'Heatmap - Cluster Membership Probabilities')"
            ]
          },
          "metadata": {},
          "execution_count": 16
        },
        {
          "output_type": "display_data",
          "data": {
            "image/png": "[encoded data removed]",
            "text/plain": [
              "<Figure size 1080x1080 with 2 Axes>"
            ]
          },
          "metadata": {
            "needs_background": "light"
          }
        }
      ]
    },
    {
      "cell_type": "code",
      "metadata": {
        "id": "NzF1KoU0S-cG",
        "colab": {
          "base_uri": "https://localhost:8080/",
          "height": 913
        },
        "outputId": "72422d97-6c2d-4fc2-a44a-de7a942d9fb8"
      },
      "source": [
        "# 2 observations are in the same cluster - visualize clustering of observations\n",
        "pairwise = probs @ probs.T\n",
        "fig, axs = plt.subplots(figsize = (15, 15))\n",
        "sns.heatmap(pairwise)\n",
        "axs.set_xlabel(\"Observations\")\n",
        "axs.set_ylabel(\"Observations\")\n",
        "axs.set_title(\"Heatmap - Probability that 2 observations are in the same cluster\")"
      ],
      "execution_count": 17,
      "outputs": [
        {
          "output_type": "execute_result",
          "data": {
            "text/plain": [
              "Text(0.5, 1.0, 'Heatmap - Probability that 2 observations are in the same cluster')"
            ]
          },
          "metadata": {},
          "execution_count": 17
        },
        {
          "output_type": "display_data",
          "data": {
            "image/png": "[encoded data removed]",
            "text/plain": [
              "<Figure size 1080x1080 with 2 Axes>"
            ]
          },
          "metadata": {
            "needs_background": "light"
          }
        }
      ]
    },
    {
      "cell_type": "markdown",
      "metadata": {
        "id": "spX4-x0vPSfi"
      },
      "source": [
        "# Try data from Tara Chari et al 2021 paper"
      ]
    },
    {
      "cell_type": "code",
      "metadata": {
        "colab": {
          "base_uri": "https://localhost:8080/"
        },
        "id": "URH0Hwl-Pb0b",
        "outputId": "21a5f957-bc17-460b-98b7-306a33d0319c"
      },
      "source": [
        "#Read in previously saved data\n",
        "bus_fs_clus = anndata.read(\"D1.1796\")\n",
        "print(bus_fs_clus )\n",
        "\n",
        "bus_fs_raw = anndata.read(\"D1.1797\")\n",
        "\n",
        "bus_fs_raw = bus_fs_raw[bus_fs_clus.obs_names,]\n",
        "bus_fs_raw.obs['fed'] = bus_fs_clus.obs['fed']\n",
        "bus_fs_raw.obs['cellRanger_louvain'] = bus_fs_clus.obs['cellRanger_louvain']\n",
        "bus_fs_raw\n"
      ],
      "execution_count": null,
      "outputs": [
        {
          "output_type": "stream",
          "name": "stderr",
          "text": [
            "Trying to set attribute `.obs` of view, copying.\n"
          ]
        },
        {
          "output_type": "stream",
          "name": "stdout",
          "text": [
            "AnnData object with n_obs × n_vars = 13673 × 8696\n",
            "    obs: 'batch', 'n_counts', 'n_countslog', 'louvain', 'leiden', 'orgID', 'fed', 'starved', 'fed_neighbor_score', 'cellRanger_louvain', 'annos', 'new_cellRanger_louvain', 'annosSub'\n",
            "    var: 'n_counts', 'mean', 'std'\n",
            "    uns: 'annosSub_colors', 'annos_colors', 'cellRanger_louvain_colors', 'cellRanger_louvain_sizes', \"dendrogram_['new_cellRanger_louvain']\", 'dendrogram_new_cellRanger_louvain', 'fed_colors', 'fed_neighbor_score_colors', 'leiden', 'leiden_colors', 'louvain', 'louvain_colors', 'neighbors', 'new_cellRanger_louvain_colors', 'orgID_colors', 'paga', 'pca', 'rank_genes_groups', 'umap'\n",
            "    obsm: 'X_nca', 'X_pca', 'X_tsne', 'X_umap'\n",
            "    varm: 'PCs'\n",
            "    obsp: 'connectivities', 'distances'\n"
          ]
        },
        {
          "output_type": "execute_result",
          "data": {
            "text/plain": [
              "AnnData object with n_obs × n_vars = 13673 × 46716\n",
              "    obs: 'batch', 'fed', 'cellRanger_louvain'"
            ]
          },
          "metadata": {},
          "execution_count": 24
        }
      ]
    },
    {
      "cell_type": "code",
      "metadata": {
        "colab": {
          "base_uri": "https://localhost:8080/",
          "height": 310
        },
        "id": "lCazB6rPPkoY",
        "outputId": "338d87e7-d25c-4543-84ce-b64edcda6931"
      },
      "source": [
        "# Cluster DE Genes by Expression and Run TopGO Analysis\n",
        "deGenesDF = pd.read_csv('D1.1810') #deSeq2_deGenesDF_log2FCof1_singleCellReplicates_noShrinkage_subSample_annotations.csv from DeSeq2 analysis\n",
        "deGenesDF.head()\n"
      ],
      "execution_count": null,
      "outputs": [
        {
          "output_type": "execute_result",
          "data": {
            "text/html": [
              "<div>\n",
              "<style scoped>\n",
              "    .dataframe tbody tr th:only-of-type {\n",
              "        vertical-align: middle;\n",
              "    }\n",
              "\n",
              "    .dataframe tbody tr th {\n",
              "        vertical-align: top;\n",
              "    }\n",
              "\n",
              "    .dataframe thead th {\n",
              "        text-align: right;\n",
              "    }\n",
              "</style>\n",
              "<table border=\"1\" class=\"dataframe\">\n",
              "  <thead>\n",
              "    <tr style=\"text-align: right;\">\n",
              "      <th></th>\n",
              "      <th>Unnamed: 0</th>\n",
              "      <th>Unnamed: 0.1</th>\n",
              "      <th>Unnamed: 0.1.1</th>\n",
              "      <th>Genes</th>\n",
              "      <th>Cluster</th>\n",
              "      <th>Condition</th>\n",
              "      <th>padj</th>\n",
              "      <th>padjClus</th>\n",
              "      <th>log2FC</th>\n",
              "      <th>orthoGene</th>\n",
              "      <th>orthoDescr</th>\n",
              "      <th>pantherID</th>\n",
              "      <th>pantherDescr</th>\n",
              "      <th>goTerms</th>\n",
              "      <th>geneClus</th>\n",
              "    </tr>\n",
              "  </thead>\n",
              "  <tbody>\n",
              "    <tr>\n",
              "      <th>0</th>\n",
              "      <td>0</td>\n",
              "      <td>0</td>\n",
              "      <td>1</td>\n",
              "      <td>XLOC_028699</td>\n",
              "      <td>0</td>\n",
              "      <td>Starved</td>\n",
              "      <td>5.554489e-16</td>\n",
              "      <td>1.832981e-14</td>\n",
              "      <td>-1.284301</td>\n",
              "      <td>NaN</td>\n",
              "      <td>NaN</td>\n",
              "      <td>NaN</td>\n",
              "      <td>NaN</td>\n",
              "      <td>NaN</td>\n",
              "      <td>4</td>\n",
              "    </tr>\n",
              "    <tr>\n",
              "      <th>1</th>\n",
              "      <td>1</td>\n",
              "      <td>1</td>\n",
              "      <td>2</td>\n",
              "      <td>XLOC_010635</td>\n",
              "      <td>0</td>\n",
              "      <td>Starved</td>\n",
              "      <td>2.528288e-14</td>\n",
              "      <td>8.343350e-13</td>\n",
              "      <td>-1.492625</td>\n",
              "      <td>SRSF1</td>\n",
              "      <td>serine/arginine-rich splicing factor 1 isofor...</td>\n",
              "      <td>['PTHR24012:SF650']</td>\n",
              "      <td>['SERINE/ARGININE-RICH SPLICING FACTOR 1']</td>\n",
              "      <td>[nan]</td>\n",
              "      <td>4</td>\n",
              "    </tr>\n",
              "    <tr>\n",
              "      <th>2</th>\n",
              "      <td>2</td>\n",
              "      <td>2</td>\n",
              "      <td>3</td>\n",
              "      <td>XLOC_011294</td>\n",
              "      <td>0</td>\n",
              "      <td>Starved</td>\n",
              "      <td>8.348790e-14</td>\n",
              "      <td>2.755101e-12</td>\n",
              "      <td>-1.441413</td>\n",
              "      <td>NaN</td>\n",
              "      <td>NaN</td>\n",
              "      <td>NaN</td>\n",
              "      <td>NaN</td>\n",
              "      <td>[nan]</td>\n",
              "      <td>0</td>\n",
              "    </tr>\n",
              "    <tr>\n",
              "      <th>3</th>\n",
              "      <td>3</td>\n",
              "      <td>3</td>\n",
              "      <td>4</td>\n",
              "      <td>XLOC_034889</td>\n",
              "      <td>0</td>\n",
              "      <td>Starved</td>\n",
              "      <td>1.786565e-13</td>\n",
              "      <td>5.895663e-12</td>\n",
              "      <td>-1.448216</td>\n",
              "      <td>NaN</td>\n",
              "      <td>NaN</td>\n",
              "      <td>['PTHR13680:SF29']</td>\n",
              "      <td>['CDGSH IRON-SULFUR DOMAIN-CONTAINING PROTEIN ...</td>\n",
              "      <td>[nan]</td>\n",
              "      <td>1</td>\n",
              "    </tr>\n",
              "    <tr>\n",
              "      <th>4</th>\n",
              "      <td>4</td>\n",
              "      <td>4</td>\n",
              "      <td>5</td>\n",
              "      <td>XLOC_030861</td>\n",
              "      <td>0</td>\n",
              "      <td>Starved</td>\n",
              "      <td>8.598653e-12</td>\n",
              "      <td>2.837556e-10</td>\n",
              "      <td>-1.570453</td>\n",
              "      <td>SRSF1</td>\n",
              "      <td>serine/arginine-rich splicing factor 1 isofor...</td>\n",
              "      <td>['PTHR24012:SF650']</td>\n",
              "      <td>['SERINE/ARGININE-RICH SPLICING FACTOR 1']</td>\n",
              "      <td>[nan]</td>\n",
              "      <td>4</td>\n",
              "    </tr>\n",
              "  </tbody>\n",
              "</table>\n",
              "</div>"
            ],
            "text/plain": [
              "   Unnamed: 0  Unnamed: 0.1  ...  goTerms geneClus\n",
              "0           0             0  ...      NaN        4\n",
              "1           1             1  ...    [nan]        4\n",
              "2           2             2  ...    [nan]        0\n",
              "3           3             3  ...    [nan]        1\n",
              "4           4             4  ...    [nan]        4\n",
              "\n",
              "[5 rows x 15 columns]"
            ]
          },
          "metadata": {},
          "execution_count": 25
        }
      ]
    },
    {
      "cell_type": "code",
      "metadata": {
        "id": "RaaXcs92P7Ux"
      },
      "source": [
        "deGenesDF_sig = deGenesDF[deGenesDF.padjClus < 0.05]\n"
      ],
      "execution_count": null,
      "outputs": []
    },
    {
      "cell_type": "code",
      "metadata": {
        "colab": {
          "base_uri": "https://localhost:8080/"
        },
        "id": "ZHHX0f3rP9PR",
        "outputId": "379e8a02-1185-4907-b882-d9a8fdc26b44"
      },
      "source": [
        "#Filter raw count dataset for only perturbed genes\n",
        "bus_fs_raw = anndata.read(\"D1.1797\")\n",
        "bus_fs_raw = bus_fs_raw [:,np.unique(deGenesDF_sig.Genes)]\n",
        "bus_fs_raw =bus_fs_raw[bus_fs_clus.obs_names,:]\n",
        "bus_fs_raw.obs['cellRanger_louvain'] = bus_fs_clus.obs['cellRanger_louvain']\n",
        "bus_fs_raw.obs['fed'] = bus_fs_clus.obs['fed']\n"
      ],
      "execution_count": null,
      "outputs": [
        {
          "output_type": "stream",
          "name": "stderr",
          "text": [
            "Trying to set attribute `.obs` of view, copying.\n"
          ]
        }
      ]
    },
    {
      "cell_type": "code",
      "metadata": {
        "colab": {
          "base_uri": "https://localhost:8080/"
        },
        "id": "qr2iaXxnQAmh",
        "outputId": "aebe4005-81cd-4195-e57f-e2d7f972a448"
      },
      "source": [
        "de_gene_adata = anndata.AnnData(X=bus_fs_raw.X.T)\n",
        "de_gene_adata.var_names = bus_fs_raw.obs_names\n",
        "de_gene_adata.obs_names = bus_fs_raw.var_names\n",
        "\n",
        "de_gene_adata_orig = de_gene_adata.copy()\n",
        "#de_gene_adata\n",
        "\n",
        "numIntersects = deGenesDF['Genes'].value_counts()\n",
        "num_intersect = []\n",
        "for g in de_gene_adata.obs_names: \n",
        "    if g in list(deGenesDF['Genes']):\n",
        "      num_intersect += [numIntersects[g]]\n",
        "    else:\n",
        "      num_intersect += [0]\n",
        "    \n",
        "de_gene_adata.obs['numIntersects'] = pd.Categorical(num_intersect)\n",
        "\n",
        "de_gene_adata\n"
      ],
      "execution_count": null,
      "outputs": [
        {
          "output_type": "execute_result",
          "data": {
            "text/plain": [
              "AnnData object with n_obs × n_vars = 953 × 13673\n",
              "    obs: 'numIntersects'"
            ]
          },
          "metadata": {},
          "execution_count": 28
        }
      ]
    },
    {
      "cell_type": "code",
      "metadata": {
        "id": "deF6YTopQFLR",
        "colab": {
          "base_uri": "https://localhost:8080/"
        },
        "outputId": "998fb739-b7b9-49f4-b9e4-9323c1f94689"
      },
      "source": [
        "counts = np.array(de_gene_adata.X.toarray(), dtype = int)\n",
        "counts.shape\n"
      ],
      "execution_count": null,
      "outputs": [
        {
          "output_type": "execute_result",
          "data": {
            "text/plain": [
              "(953, 13673)"
            ]
          },
          "metadata": {},
          "execution_count": 29
        }
      ]
    },
    {
      "cell_type": "code",
      "metadata": {
        "colab": {
          "base_uri": "https://localhost:8080/",
          "height": 450
        },
        "id": "mhgPpd7nQIbz",
        "outputId": "76b4ad39-5d33-4cb1-8ce0-1159eab5dc66"
      },
      "source": [
        "fig, axs = plt.subplots(figsize = (7, 7))\n",
        "plt.scatter(counts.mean(axis = 1), counts.var(axis = 1))\n",
        "axs.set_xlim([-1, 100])\n",
        "axs.set_ylim([-1, 100])"
      ],
      "execution_count": null,
      "outputs": [
        {
          "output_type": "execute_result",
          "data": {
            "text/plain": [
              "(-1.0, 100.0)"
            ]
          },
          "metadata": {},
          "execution_count": 14
        },
        {
          "output_type": "display_data",
          "data": {
            "image/png": "[encoded data removed]",
            "text/plain": [
              "<Figure size 504x504 with 1 Axes>"
            ]
          },
          "metadata": {
            "needs_background": "light"
          }
        }
      ]
    },
    {
      "cell_type": "code",
      "metadata": {
        "colab": {
          "base_uri": "https://localhost:8080/"
        },
        "id": "36tD6M4OQ0Gh",
        "outputId": "c66eb2e3-70eb-4feb-b07a-600f805ff77d"
      },
      "source": [
        "  dppm_clust = DPPLMClust(data = torch.tensor(counts), num_clusters = 14, alpha = 5.0, niter = 5000)\n",
        "  dppm_clust.var_inference()\n"
      ],
      "execution_count": null,
      "outputs": [
        {
          "output_type": "stream",
          "name": "stderr",
          "text": [
            "\r  0%|          | 0/5000 [00:00<?, ?it/s]"
          ]
        }
      ]
    },
    {
      "cell_type": "code",
      "metadata": {
        "id": "ZNgkenLoaizn"
      },
      "source": [
        "torch.cuda.empty_cache() \n"
      ],
      "execution_count": null,
      "outputs": []
    },
    {
      "cell_type": "code",
      "metadata": {
        "colab": {
          "base_uri": "https://localhost:8080/",
          "height": 706
        },
        "id": "XMLo_gERRUCh",
        "outputId": "d032a804-64b4-416b-d8c4-8e9e8dc52db9"
      },
      "source": [
        "dppm_clust.loss_viz()\n",
        "dppm_clust.cluster_2d_viz()"
      ],
      "execution_count": null,
      "outputs": [
        {
          "output_type": "stream",
          "name": "stderr",
          "text": [
            "/usr/local/lib/python3.7/dist-packages/matplotlib/axes/_axes.py:2021: RuntimeWarning: invalid value encountered in true_divide\n",
            "  correls /= np.sqrt(np.dot(x, x) * np.dot(y, y))\n"
          ]
        },
        {
          "output_type": "display_data",
          "data": {
            "image/png": "[encoded data removed]",
            "text/plain": [
              "<Figure size 1080x360 with 2 Axes>"
            ]
          },
          "metadata": {
            "needs_background": "light"
          }
        },
        {
          "output_type": "display_data",
          "data": {
            "image/png": "[encoded data removed]",
            "text/plain": [
              "<Figure size 1080x360 with 1 Axes>"
            ]
          },
          "metadata": {
            "needs_background": "light"
          }
        }
      ]
    },
    {
      "cell_type": "code",
      "metadata": {
        "colab": {
          "base_uri": "https://localhost:8080/"
        },
        "id": "-adUzeOqUAZa",
        "outputId": "f9730f99-5834-458f-b6fe-6dd9c5c92329"
      },
      "source": [
        "probs = pyro.param(\"phi\").detach().cpu().numpy()\n",
        "clusters = collections.defaultdict(list)\n",
        "clusters_obs = []\n",
        "i = 0\n",
        "for row in probs:\n",
        "    cluster_idx = np.argmax(row) + 1\n",
        "    clusters[cluster_idx].append(i)\n",
        "    clusters_obs.append(cluster_idx)\n",
        "    i += 1\n",
        "\n",
        "clusters_counts = collections.Counter(clusters_obs)\n",
        "pprint(sorted(clusters_counts.items()))\n"
      ],
      "execution_count": null,
      "outputs": [
        {
          "output_type": "stream",
          "name": "stdout",
          "text": [
            "[(1, 71),\n",
            " (2, 77),\n",
            " (3, 58),\n",
            " (4, 57),\n",
            " (5, 77),\n",
            " (6, 59),\n",
            " (7, 68),\n",
            " (8, 74),\n",
            " (9, 70),\n",
            " (10, 64),\n",
            " (11, 64),\n",
            " (12, 70),\n",
            " (13, 65),\n",
            " (14, 79)]\n"
          ]
        }
      ]
    },
    {
      "cell_type": "markdown",
      "metadata": {
        "id": "BXMGzOM-b15k"
      },
      "source": [
        "# Try data from Xiuli An 2014 et al"
      ]
    },
    {
      "cell_type": "code",
      "metadata": {
        "colab": {
          "base_uri": "https://localhost:8080/",
          "height": 424
        },
        "id": "lyrcwwS_z5Ct",
        "outputId": "ef1e46b1-9cb7-491c-ac96-d6ded72b5e09"
      },
      "source": [
        "df = pd.read_csv(\"sample_data/filtered_Xiuli_An_2014.txt\", sep = \"\\t\")\n",
        "df"
      ],
      "execution_count": 18,
      "outputs": [
        {
          "output_type": "execute_result",
          "data": {
            "text/html": [
              "<div>\n",
              "<style scoped>\n",
              "    .dataframe tbody tr th:only-of-type {\n",
              "        vertical-align: middle;\n",
              "    }\n",
              "\n",
              "    .dataframe tbody tr th {\n",
              "        vertical-align: top;\n",
              "    }\n",
              "\n",
              "    .dataframe thead th {\n",
              "        text-align: right;\n",
              "    }\n",
              "</style>\n",
              "<table border=\"1\" class=\"dataframe\">\n",
              "  <thead>\n",
              "    <tr style=\"text-align: right;\">\n",
              "      <th></th>\n",
              "      <th>gene_symbol</th>\n",
              "      <th>SRR1106084</th>\n",
              "      <th>SRR1106085</th>\n",
              "      <th>SRR1106087</th>\n",
              "      <th>SRR1106086</th>\n",
              "      <th>SRR1106089</th>\n",
              "      <th>SRR1106088</th>\n",
              "      <th>SRR1106090</th>\n",
              "      <th>SRR1106091</th>\n",
              "      <th>SRR1106092</th>\n",
              "      <th>SRR1106093</th>\n",
              "      <th>SRR1106094</th>\n",
              "      <th>SRR1106095</th>\n",
              "      <th>SRR1106096</th>\n",
              "      <th>SRR1106097</th>\n",
              "      <th>SRR1106098</th>\n",
              "    </tr>\n",
              "  </thead>\n",
              "  <tbody>\n",
              "    <tr>\n",
              "      <th>0</th>\n",
              "      <td>TSPAN6</td>\n",
              "      <td>54876</td>\n",
              "      <td>10347</td>\n",
              "      <td>46742</td>\n",
              "      <td>11884</td>\n",
              "      <td>8852</td>\n",
              "      <td>7764</td>\n",
              "      <td>14076</td>\n",
              "      <td>3992</td>\n",
              "      <td>4245</td>\n",
              "      <td>357</td>\n",
              "      <td>139.0</td>\n",
              "      <td>202</td>\n",
              "      <td>128</td>\n",
              "      <td>20</td>\n",
              "      <td>50</td>\n",
              "    </tr>\n",
              "    <tr>\n",
              "      <th>1</th>\n",
              "      <td>DPM1</td>\n",
              "      <td>378667</td>\n",
              "      <td>74142</td>\n",
              "      <td>443054</td>\n",
              "      <td>78987</td>\n",
              "      <td>83801</td>\n",
              "      <td>78130</td>\n",
              "      <td>294221</td>\n",
              "      <td>70741</td>\n",
              "      <td>68161</td>\n",
              "      <td>151587</td>\n",
              "      <td>28555.0</td>\n",
              "      <td>31649</td>\n",
              "      <td>64814</td>\n",
              "      <td>8634</td>\n",
              "      <td>9322</td>\n",
              "    </tr>\n",
              "    <tr>\n",
              "      <th>2</th>\n",
              "      <td>SCYL3</td>\n",
              "      <td>165724</td>\n",
              "      <td>21858</td>\n",
              "      <td>215751</td>\n",
              "      <td>38138</td>\n",
              "      <td>33440</td>\n",
              "      <td>27278</td>\n",
              "      <td>180450</td>\n",
              "      <td>31425</td>\n",
              "      <td>34257</td>\n",
              "      <td>119314</td>\n",
              "      <td>25373.0</td>\n",
              "      <td>26971</td>\n",
              "      <td>29412</td>\n",
              "      <td>5489</td>\n",
              "      <td>6350</td>\n",
              "    </tr>\n",
              "    <tr>\n",
              "      <th>3</th>\n",
              "      <td>C1orf112</td>\n",
              "      <td>331627</td>\n",
              "      <td>43693</td>\n",
              "      <td>459859</td>\n",
              "      <td>67032</td>\n",
              "      <td>71642</td>\n",
              "      <td>58184</td>\n",
              "      <td>370435</td>\n",
              "      <td>69574</td>\n",
              "      <td>72520</td>\n",
              "      <td>166735</td>\n",
              "      <td>42095.0</td>\n",
              "      <td>39406</td>\n",
              "      <td>12098</td>\n",
              "      <td>3865</td>\n",
              "      <td>4165</td>\n",
              "    </tr>\n",
              "    <tr>\n",
              "      <th>4</th>\n",
              "      <td>FUCA2</td>\n",
              "      <td>299783</td>\n",
              "      <td>53783</td>\n",
              "      <td>301332</td>\n",
              "      <td>58771</td>\n",
              "      <td>59406</td>\n",
              "      <td>53610</td>\n",
              "      <td>170972</td>\n",
              "      <td>44835</td>\n",
              "      <td>46555</td>\n",
              "      <td>26287</td>\n",
              "      <td>6575.0</td>\n",
              "      <td>9102</td>\n",
              "      <td>4030</td>\n",
              "      <td>1375</td>\n",
              "      <td>1623</td>\n",
              "    </tr>\n",
              "    <tr>\n",
              "      <th>...</th>\n",
              "      <td>...</td>\n",
              "      <td>...</td>\n",
              "      <td>...</td>\n",
              "      <td>...</td>\n",
              "      <td>...</td>\n",
              "      <td>...</td>\n",
              "      <td>...</td>\n",
              "      <td>...</td>\n",
              "      <td>...</td>\n",
              "      <td>...</td>\n",
              "      <td>...</td>\n",
              "      <td>...</td>\n",
              "      <td>...</td>\n",
              "      <td>...</td>\n",
              "      <td>...</td>\n",
              "      <td>...</td>\n",
              "    </tr>\n",
              "    <tr>\n",
              "      <th>8901</th>\n",
              "      <td>MRPL45</td>\n",
              "      <td>751871</td>\n",
              "      <td>115258</td>\n",
              "      <td>721970</td>\n",
              "      <td>136441</td>\n",
              "      <td>108951</td>\n",
              "      <td>108662</td>\n",
              "      <td>386331</td>\n",
              "      <td>80324</td>\n",
              "      <td>77548</td>\n",
              "      <td>175044</td>\n",
              "      <td>19729.0</td>\n",
              "      <td>22964</td>\n",
              "      <td>84255</td>\n",
              "      <td>10071</td>\n",
              "      <td>15872</td>\n",
              "    </tr>\n",
              "    <tr>\n",
              "      <th>8902</th>\n",
              "      <td>GABARAPL3</td>\n",
              "      <td>1675</td>\n",
              "      <td>204</td>\n",
              "      <td>3495</td>\n",
              "      <td>251</td>\n",
              "      <td>642</td>\n",
              "      <td>51</td>\n",
              "      <td>6504</td>\n",
              "      <td>590</td>\n",
              "      <td>561</td>\n",
              "      <td>39298</td>\n",
              "      <td>9575.0</td>\n",
              "      <td>11154</td>\n",
              "      <td>88575</td>\n",
              "      <td>18037</td>\n",
              "      <td>23491</td>\n",
              "    </tr>\n",
              "    <tr>\n",
              "      <th>8903</th>\n",
              "      <td>LINC00294</td>\n",
              "      <td>57930</td>\n",
              "      <td>6436</td>\n",
              "      <td>83768</td>\n",
              "      <td>9189</td>\n",
              "      <td>12304</td>\n",
              "      <td>9642</td>\n",
              "      <td>101938</td>\n",
              "      <td>12752</td>\n",
              "      <td>14111</td>\n",
              "      <td>124399</td>\n",
              "      <td>25811.0</td>\n",
              "      <td>30045</td>\n",
              "      <td>25208</td>\n",
              "      <td>3259</td>\n",
              "      <td>4433</td>\n",
              "    </tr>\n",
              "    <tr>\n",
              "      <th>8904</th>\n",
              "      <td>MATR3</td>\n",
              "      <td>4177652</td>\n",
              "      <td>683738</td>\n",
              "      <td>4691062</td>\n",
              "      <td>715364</td>\n",
              "      <td>741949</td>\n",
              "      <td>754883</td>\n",
              "      <td>3089438</td>\n",
              "      <td>676970</td>\n",
              "      <td>654168</td>\n",
              "      <td>1470763</td>\n",
              "      <td>304113.0</td>\n",
              "      <td>303892</td>\n",
              "      <td>600151</td>\n",
              "      <td>52448</td>\n",
              "      <td>68068</td>\n",
              "    </tr>\n",
              "    <tr>\n",
              "      <th>8905</th>\n",
              "      <td>SNHG4</td>\n",
              "      <td>92886</td>\n",
              "      <td>12255</td>\n",
              "      <td>61701</td>\n",
              "      <td>17279</td>\n",
              "      <td>13454</td>\n",
              "      <td>10443</td>\n",
              "      <td>15685</td>\n",
              "      <td>5084</td>\n",
              "      <td>3211</td>\n",
              "      <td>128</td>\n",
              "      <td>51.0</td>\n",
              "      <td>102</td>\n",
              "      <td>1071</td>\n",
              "      <td>102</td>\n",
              "      <td>102</td>\n",
              "    </tr>\n",
              "  </tbody>\n",
              "</table>\n",
              "<p>8906 rows × 16 columns</p>\n",
              "</div>"
            ],
            "text/plain": [
              "     gene_symbol  SRR1106084  SRR1106085  ...  SRR1106096  SRR1106097  SRR1106098\n",
              "0         TSPAN6       54876       10347  ...         128          20          50\n",
              "1           DPM1      378667       74142  ...       64814        8634        9322\n",
              "2          SCYL3      165724       21858  ...       29412        5489        6350\n",
              "3       C1orf112      331627       43693  ...       12098        3865        4165\n",
              "4          FUCA2      299783       53783  ...        4030        1375        1623\n",
              "...          ...         ...         ...  ...         ...         ...         ...\n",
              "8901      MRPL45      751871      115258  ...       84255       10071       15872\n",
              "8902   GABARAPL3        1675         204  ...       88575       18037       23491\n",
              "8903   LINC00294       57930        6436  ...       25208        3259        4433\n",
              "8904       MATR3     4177652      683738  ...      600151       52448       68068\n",
              "8905       SNHG4       92886       12255  ...        1071         102         102\n",
              "\n",
              "[8906 rows x 16 columns]"
            ]
          },
          "metadata": {},
          "execution_count": 18
        }
      ]
    },
    {
      "cell_type": "code",
      "metadata": {
        "colab": {
          "base_uri": "https://localhost:8080/",
          "height": 424
        },
        "id": "mRoBXCwz0Xjt",
        "outputId": "f0110bf7-77e0-41d9-aa12-17f1593959bc"
      },
      "source": [
        "df = df.drop(columns=['gene_symbol'])\n",
        "df"
      ],
      "execution_count": 19,
      "outputs": [
        {
          "output_type": "execute_result",
          "data": {
            "text/html": [
              "<div>\n",
              "<style scoped>\n",
              "    .dataframe tbody tr th:only-of-type {\n",
              "        vertical-align: middle;\n",
              "    }\n",
              "\n",
              "    .dataframe tbody tr th {\n",
              "        vertical-align: top;\n",
              "    }\n",
              "\n",
              "    .dataframe thead th {\n",
              "        text-align: right;\n",
              "    }\n",
              "</style>\n",
              "<table border=\"1\" class=\"dataframe\">\n",
              "  <thead>\n",
              "    <tr style=\"text-align: right;\">\n",
              "      <th></th>\n",
              "      <th>SRR1106084</th>\n",
              "      <th>SRR1106085</th>\n",
              "      <th>SRR1106087</th>\n",
              "      <th>SRR1106086</th>\n",
              "      <th>SRR1106089</th>\n",
              "      <th>SRR1106088</th>\n",
              "      <th>SRR1106090</th>\n",
              "      <th>SRR1106091</th>\n",
              "      <th>SRR1106092</th>\n",
              "      <th>SRR1106093</th>\n",
              "      <th>SRR1106094</th>\n",
              "      <th>SRR1106095</th>\n",
              "      <th>SRR1106096</th>\n",
              "      <th>SRR1106097</th>\n",
              "      <th>SRR1106098</th>\n",
              "    </tr>\n",
              "  </thead>\n",
              "  <tbody>\n",
              "    <tr>\n",
              "      <th>0</th>\n",
              "      <td>54876</td>\n",
              "      <td>10347</td>\n",
              "      <td>46742</td>\n",
              "      <td>11884</td>\n",
              "      <td>8852</td>\n",
              "      <td>7764</td>\n",
              "      <td>14076</td>\n",
              "      <td>3992</td>\n",
              "      <td>4245</td>\n",
              "      <td>357</td>\n",
              "      <td>139.0</td>\n",
              "      <td>202</td>\n",
              "      <td>128</td>\n",
              "      <td>20</td>\n",
              "      <td>50</td>\n",
              "    </tr>\n",
              "    <tr>\n",
              "      <th>1</th>\n",
              "      <td>378667</td>\n",
              "      <td>74142</td>\n",
              "      <td>443054</td>\n",
              "      <td>78987</td>\n",
              "      <td>83801</td>\n",
              "      <td>78130</td>\n",
              "      <td>294221</td>\n",
              "      <td>70741</td>\n",
              "      <td>68161</td>\n",
              "      <td>151587</td>\n",
              "      <td>28555.0</td>\n",
              "      <td>31649</td>\n",
              "      <td>64814</td>\n",
              "      <td>8634</td>\n",
              "      <td>9322</td>\n",
              "    </tr>\n",
              "    <tr>\n",
              "      <th>2</th>\n",
              "      <td>165724</td>\n",
              "      <td>21858</td>\n",
              "      <td>215751</td>\n",
              "      <td>38138</td>\n",
              "      <td>33440</td>\n",
              "      <td>27278</td>\n",
              "      <td>180450</td>\n",
              "      <td>31425</td>\n",
              "      <td>34257</td>\n",
              "      <td>119314</td>\n",
              "      <td>25373.0</td>\n",
              "      <td>26971</td>\n",
              "      <td>29412</td>\n",
              "      <td>5489</td>\n",
              "      <td>6350</td>\n",
              "    </tr>\n",
              "    <tr>\n",
              "      <th>3</th>\n",
              "      <td>331627</td>\n",
              "      <td>43693</td>\n",
              "      <td>459859</td>\n",
              "      <td>67032</td>\n",
              "      <td>71642</td>\n",
              "      <td>58184</td>\n",
              "      <td>370435</td>\n",
              "      <td>69574</td>\n",
              "      <td>72520</td>\n",
              "      <td>166735</td>\n",
              "      <td>42095.0</td>\n",
              "      <td>39406</td>\n",
              "      <td>12098</td>\n",
              "      <td>3865</td>\n",
              "      <td>4165</td>\n",
              "    </tr>\n",
              "    <tr>\n",
              "      <th>4</th>\n",
              "      <td>299783</td>\n",
              "      <td>53783</td>\n",
              "      <td>301332</td>\n",
              "      <td>58771</td>\n",
              "      <td>59406</td>\n",
              "      <td>53610</td>\n",
              "      <td>170972</td>\n",
              "      <td>44835</td>\n",
              "      <td>46555</td>\n",
              "      <td>26287</td>\n",
              "      <td>6575.0</td>\n",
              "      <td>9102</td>\n",
              "      <td>4030</td>\n",
              "      <td>1375</td>\n",
              "      <td>1623</td>\n",
              "    </tr>\n",
              "    <tr>\n",
              "      <th>...</th>\n",
              "      <td>...</td>\n",
              "      <td>...</td>\n",
              "      <td>...</td>\n",
              "      <td>...</td>\n",
              "      <td>...</td>\n",
              "      <td>...</td>\n",
              "      <td>...</td>\n",
              "      <td>...</td>\n",
              "      <td>...</td>\n",
              "      <td>...</td>\n",
              "      <td>...</td>\n",
              "      <td>...</td>\n",
              "      <td>...</td>\n",
              "      <td>...</td>\n",
              "      <td>...</td>\n",
              "    </tr>\n",
              "    <tr>\n",
              "      <th>8901</th>\n",
              "      <td>751871</td>\n",
              "      <td>115258</td>\n",
              "      <td>721970</td>\n",
              "      <td>136441</td>\n",
              "      <td>108951</td>\n",
              "      <td>108662</td>\n",
              "      <td>386331</td>\n",
              "      <td>80324</td>\n",
              "      <td>77548</td>\n",
              "      <td>175044</td>\n",
              "      <td>19729.0</td>\n",
              "      <td>22964</td>\n",
              "      <td>84255</td>\n",
              "      <td>10071</td>\n",
              "      <td>15872</td>\n",
              "    </tr>\n",
              "    <tr>\n",
              "      <th>8902</th>\n",
              "      <td>1675</td>\n",
              "      <td>204</td>\n",
              "      <td>3495</td>\n",
              "      <td>251</td>\n",
              "      <td>642</td>\n",
              "      <td>51</td>\n",
              "      <td>6504</td>\n",
              "      <td>590</td>\n",
              "      <td>561</td>\n",
              "      <td>39298</td>\n",
              "      <td>9575.0</td>\n",
              "      <td>11154</td>\n",
              "      <td>88575</td>\n",
              "      <td>18037</td>\n",
              "      <td>23491</td>\n",
              "    </tr>\n",
              "    <tr>\n",
              "      <th>8903</th>\n",
              "      <td>57930</td>\n",
              "      <td>6436</td>\n",
              "      <td>83768</td>\n",
              "      <td>9189</td>\n",
              "      <td>12304</td>\n",
              "      <td>9642</td>\n",
              "      <td>101938</td>\n",
              "      <td>12752</td>\n",
              "      <td>14111</td>\n",
              "      <td>124399</td>\n",
              "      <td>25811.0</td>\n",
              "      <td>30045</td>\n",
              "      <td>25208</td>\n",
              "      <td>3259</td>\n",
              "      <td>4433</td>\n",
              "    </tr>\n",
              "    <tr>\n",
              "      <th>8904</th>\n",
              "      <td>4177652</td>\n",
              "      <td>683738</td>\n",
              "      <td>4691062</td>\n",
              "      <td>715364</td>\n",
              "      <td>741949</td>\n",
              "      <td>754883</td>\n",
              "      <td>3089438</td>\n",
              "      <td>676970</td>\n",
              "      <td>654168</td>\n",
              "      <td>1470763</td>\n",
              "      <td>304113.0</td>\n",
              "      <td>303892</td>\n",
              "      <td>600151</td>\n",
              "      <td>52448</td>\n",
              "      <td>68068</td>\n",
              "    </tr>\n",
              "    <tr>\n",
              "      <th>8905</th>\n",
              "      <td>92886</td>\n",
              "      <td>12255</td>\n",
              "      <td>61701</td>\n",
              "      <td>17279</td>\n",
              "      <td>13454</td>\n",
              "      <td>10443</td>\n",
              "      <td>15685</td>\n",
              "      <td>5084</td>\n",
              "      <td>3211</td>\n",
              "      <td>128</td>\n",
              "      <td>51.0</td>\n",
              "      <td>102</td>\n",
              "      <td>1071</td>\n",
              "      <td>102</td>\n",
              "      <td>102</td>\n",
              "    </tr>\n",
              "  </tbody>\n",
              "</table>\n",
              "<p>8906 rows × 15 columns</p>\n",
              "</div>"
            ],
            "text/plain": [
              "      SRR1106084  SRR1106085  SRR1106087  ...  SRR1106096  SRR1106097  SRR1106098\n",
              "0          54876       10347       46742  ...         128          20          50\n",
              "1         378667       74142      443054  ...       64814        8634        9322\n",
              "2         165724       21858      215751  ...       29412        5489        6350\n",
              "3         331627       43693      459859  ...       12098        3865        4165\n",
              "4         299783       53783      301332  ...        4030        1375        1623\n",
              "...          ...         ...         ...  ...         ...         ...         ...\n",
              "8901      751871      115258      721970  ...       84255       10071       15872\n",
              "8902        1675         204        3495  ...       88575       18037       23491\n",
              "8903       57930        6436       83768  ...       25208        3259        4433\n",
              "8904     4177652      683738     4691062  ...      600151       52448       68068\n",
              "8905       92886       12255       61701  ...        1071         102         102\n",
              "\n",
              "[8906 rows x 15 columns]"
            ]
          },
          "metadata": {},
          "execution_count": 19
        }
      ]
    },
    {
      "cell_type": "code",
      "metadata": {
        "colab": {
          "base_uri": "https://localhost:8080/"
        },
        "id": "GEUxq1Ci0mv_",
        "outputId": "0a8b5bd0-cc94-406e-d7a8-b33f0c5dc45a"
      },
      "source": [
        "data = df.to_numpy(dtype = int)\n",
        "data.shape"
      ],
      "execution_count": 20,
      "outputs": [
        {
          "output_type": "execute_result",
          "data": {
            "text/plain": [
              "(8906, 15)"
            ]
          },
          "metadata": {},
          "execution_count": 20
        }
      ]
    },
    {
      "cell_type": "code",
      "metadata": {
        "colab": {
          "base_uri": "https://localhost:8080/"
        },
        "id": "VoSHd6L60dQd",
        "outputId": "5d5cdeb0-2beb-4553-a522-619d0ff5b6ca"
      },
      "source": [
        "dppm_clust = DPPLMClust(data = torch.tensor(data), num_clusters = 20, alpha = 5.0, niter = 5000)\n",
        "dppm_clust.var_inference()\n"
      ],
      "execution_count": 21,
      "outputs": [
        {
          "output_type": "stream",
          "name": "stderr",
          "text": [
            "100%|██████████| 5000/5000 [01:11<00:00, 69.84it/s]\n"
          ]
        }
      ]
    },
    {
      "cell_type": "code",
      "metadata": {
        "colab": {
          "base_uri": "https://localhost:8080/",
          "height": 701
        },
        "id": "xnoNgO0U0o5s",
        "outputId": "41463116-2b78-4e9a-cda5-a6ef20ff4dba"
      },
      "source": [
        "dppm_clust.loss_viz()\n",
        "dppm_clust.cluster_2d_viz()"
      ],
      "execution_count": 22,
      "outputs": [
        {
          "output_type": "display_data",
          "data": {
            "image/png": "[encoded data removed]",
            "text/plain": [
              "<Figure size 1080x360 with 2 Axes>"
            ]
          },
          "metadata": {
            "needs_background": "light"
          }
        },
        {
          "output_type": "display_data",
          "data": {
            "image/png": "[encoded data removed]",
            "text/plain": [
              "<Figure size 1080x360 with 1 Axes>"
            ]
          },
          "metadata": {
            "needs_background": "light"
          }
        }
      ]
    },
    {
      "cell_type": "code",
      "metadata": {
        "colab": {
          "base_uri": "https://localhost:8080/",
          "height": 885
        },
        "id": "JYMJ0x5_1139",
        "outputId": "0e11c31d-dee9-4fcc-c33b-210be75934b1"
      },
      "source": [
        "probs = pyro.param(\"phi\").detach().cpu().numpy()\n",
        "fig, axs = plt.subplots(figsize = (15, 15))\n",
        "sns.heatmap(probs)"
      ],
      "execution_count": 23,
      "outputs": [
        {
          "output_type": "execute_result",
          "data": {
            "text/plain": [
              "<matplotlib.axes._subplots.AxesSubplot at 0x7fb294b3cb10>"
            ]
          },
          "metadata": {},
          "execution_count": 23
        },
        {
          "output_type": "display_data",
          "data": {
            "image/png": "[encoded data removed]",
            "text/plain": [
              "<Figure size 1080x1080 with 2 Axes>"
            ]
          },
          "metadata": {
            "needs_background": "light"
          }
        }
      ]
    },
    {
      "cell_type": "code",
      "metadata": {
        "id": "rfcCMVNd1-fk"
      },
      "source": [
        ""
      ],
      "execution_count": null,
      "outputs": []
    }
  ]
}